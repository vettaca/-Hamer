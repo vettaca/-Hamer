{
 "cells": [
  {
   "cell_type": "markdown",
   "metadata": {},
   "source": [
    "## Voter Turnout in KY"
   ]
  },
  {
   "cell_type": "code",
   "execution_count": 127,
   "metadata": {},
   "outputs": [
    {
     "name": "stdout",
     "output_type": "stream",
     "text": [
      "Requirement already satisfied: xlrd in c:\\users\\ivett\\appdata\\local\\packages\\pythonsoftwarefoundation.python.3.9_qbz5n2kfra8p0\\localcache\\local-packages\\python39\\site-packages (2.0.1)\n"
     ]
    },
    {
     "name": "stderr",
     "output_type": "stream",
     "text": [
      "WARNING: You are using pip version 22.0.4; however, version 22.3.1 is available.\n",
      "You should consider upgrading via the 'C:\\Users\\ivett\\AppData\\Local\\Microsoft\\WindowsApps\\PythonSoftwareFoundation.Python.3.9_qbz5n2kfra8p0\\python.exe -m pip install --upgrade pip' command.\n"
     ]
    },
    {
     "name": "stdout",
     "output_type": "stream",
     "text": [
      "Requirement already satisfied: openpyxl in c:\\users\\ivett\\appdata\\local\\packages\\pythonsoftwarefoundation.python.3.9_qbz5n2kfra8p0\\localcache\\local-packages\\python39\\site-packages (3.0.10)\n",
      "Requirement already satisfied: et-xmlfile in c:\\users\\ivett\\appdata\\local\\packages\\pythonsoftwarefoundation.python.3.9_qbz5n2kfra8p0\\localcache\\local-packages\\python39\\site-packages (from openpyxl) (1.1.0)\n"
     ]
    },
    {
     "name": "stderr",
     "output_type": "stream",
     "text": [
      "WARNING: You are using pip version 22.0.4; however, version 22.3.1 is available.\n",
      "You should consider upgrading via the 'C:\\Users\\ivett\\AppData\\Local\\Microsoft\\WindowsApps\\PythonSoftwareFoundation.Python.3.9_qbz5n2kfra8p0\\python.exe -m pip install --upgrade pip' command.\n"
     ]
    },
    {
     "name": "stdout",
     "output_type": "stream",
     "text": [
      "Requirement already satisfied: matplotlib in c:\\users\\ivett\\appdata\\local\\packages\\pythonsoftwarefoundation.python.3.9_qbz5n2kfra8p0\\localcache\\local-packages\\python39\\site-packages (3.6.2)\n",
      "Requirement already satisfied: fonttools>=4.22.0 in c:\\users\\ivett\\appdata\\local\\packages\\pythonsoftwarefoundation.python.3.9_qbz5n2kfra8p0\\localcache\\local-packages\\python39\\site-packages (from matplotlib) (4.38.0)\n",
      "Requirement already satisfied: numpy>=1.19 in c:\\users\\ivett\\appdata\\local\\packages\\pythonsoftwarefoundation.python.3.9_qbz5n2kfra8p0\\localcache\\local-packages\\python39\\site-packages (from matplotlib) (1.23.4)\n",
      "Requirement already satisfied: contourpy>=1.0.1 in c:\\users\\ivett\\appdata\\local\\packages\\pythonsoftwarefoundation.python.3.9_qbz5n2kfra8p0\\localcache\\local-packages\\python39\\site-packages (from matplotlib) (1.0.6)\n",
      "Requirement already satisfied: packaging>=20.0 in c:\\users\\ivett\\appdata\\local\\packages\\pythonsoftwarefoundation.python.3.9_qbz5n2kfra8p0\\localcache\\local-packages\\python39\\site-packages (from matplotlib) (21.3)\n",
      "Requirement already satisfied: python-dateutil>=2.7 in c:\\users\\ivett\\appdata\\local\\packages\\pythonsoftwarefoundation.python.3.9_qbz5n2kfra8p0\\localcache\\local-packages\\python39\\site-packages (from matplotlib) (2.8.2)\n",
      "Requirement already satisfied: kiwisolver>=1.0.1 in c:\\users\\ivett\\appdata\\local\\packages\\pythonsoftwarefoundation.python.3.9_qbz5n2kfra8p0\\localcache\\local-packages\\python39\\site-packages (from matplotlib) (1.4.4)\n",
      "Requirement already satisfied: cycler>=0.10 in c:\\users\\ivett\\appdata\\local\\packages\\pythonsoftwarefoundation.python.3.9_qbz5n2kfra8p0\\localcache\\local-packages\\python39\\site-packages (from matplotlib) (0.11.0)\n",
      "Requirement already satisfied: pyparsing>=2.2.1 in c:\\users\\ivett\\appdata\\local\\packages\\pythonsoftwarefoundation.python.3.9_qbz5n2kfra8p0\\localcache\\local-packages\\python39\\site-packages (from matplotlib) (3.0.9)\n",
      "Requirement already satisfied: pillow>=6.2.0 in c:\\users\\ivett\\appdata\\local\\packages\\pythonsoftwarefoundation.python.3.9_qbz5n2kfra8p0\\localcache\\local-packages\\python39\\site-packages (from matplotlib) (9.3.0)\n",
      "Requirement already satisfied: six>=1.5 in c:\\users\\ivett\\appdata\\local\\packages\\pythonsoftwarefoundation.python.3.9_qbz5n2kfra8p0\\localcache\\local-packages\\python39\\site-packages (from python-dateutil>=2.7->matplotlib) (1.16.0)\n"
     ]
    },
    {
     "name": "stderr",
     "output_type": "stream",
     "text": [
      "WARNING: You are using pip version 22.0.4; however, version 22.3.1 is available.\n",
      "You should consider upgrading via the 'C:\\Users\\ivett\\AppData\\Local\\Microsoft\\WindowsApps\\PythonSoftwareFoundation.Python.3.9_qbz5n2kfra8p0\\python.exe -m pip install --upgrade pip' command.\n"
     ]
    }
   ],
   "source": [
    "! pip install xlrd\n",
    "! pip install openpyxl\n",
    "import plotly.express as px\n",
    "! pip install matplotlib\n",
    "\n",
    "import matplotlib.pyplot as plt\n",
    "import numpy as np"
   ]
  },
  {
   "cell_type": "code",
   "execution_count": 95,
   "metadata": {},
   "outputs": [
    {
     "name": "stdout",
     "output_type": "stream",
     "text": [
      "Requirement already satisfied: xlrd in c:\\users\\ivett\\appdata\\local\\packages\\pythonsoftwarefoundation.python.3.9_qbz5n2kfra8p0\\localcache\\local-packages\\python39\\site-packages (2.0.1)\n"
     ]
    },
    {
     "name": "stderr",
     "output_type": "stream",
     "text": [
      "WARNING: You are using pip version 22.0.4; however, version 22.3.1 is available.\n",
      "You should consider upgrading via the 'C:\\Users\\ivett\\AppData\\Local\\Microsoft\\WindowsApps\\PythonSoftwareFoundation.Python.3.9_qbz5n2kfra8p0\\python.exe -m pip install --upgrade pip' command.\n"
     ]
    },
    {
     "name": "stdout",
     "output_type": "stream",
     "text": [
      "Requirement already satisfied: openpyxl in c:\\users\\ivett\\appdata\\local\\packages\\pythonsoftwarefoundation.python.3.9_qbz5n2kfra8p0\\localcache\\local-packages\\python39\\site-packages (3.0.10)\n",
      "Requirement already satisfied: et-xmlfile in c:\\users\\ivett\\appdata\\local\\packages\\pythonsoftwarefoundation.python.3.9_qbz5n2kfra8p0\\localcache\\local-packages\\python39\\site-packages (from openpyxl) (1.1.0)\n"
     ]
    },
    {
     "name": "stderr",
     "output_type": "stream",
     "text": [
      "WARNING: You are using pip version 22.0.4; however, version 22.3.1 is available.\n",
      "You should consider upgrading via the 'C:\\Users\\ivett\\AppData\\Local\\Microsoft\\WindowsApps\\PythonSoftwareFoundation.Python.3.9_qbz5n2kfra8p0\\python.exe -m pip install --upgrade pip' command.\n"
     ]
    }
   ],
   "source": [
    "! pip install xlrd\n",
    "! pip install openpyxl\n",
    "import pandas as pd"
   ]
  },
  {
   "cell_type": "code",
   "execution_count": 96,
   "metadata": {},
   "outputs": [],
   "source": [
    "turnout_2020 = pd.read_excel('KY_Turnout_2020.xlsx','Couty_VT')"
   ]
  },
  {
   "cell_type": "code",
   "execution_count": 97,
   "metadata": {},
   "outputs": [
    {
     "data": {
      "text/html": [
       "<div>\n",
       "<style scoped>\n",
       "    .dataframe tbody tr th:only-of-type {\n",
       "        vertical-align: middle;\n",
       "    }\n",
       "\n",
       "    .dataframe tbody tr th {\n",
       "        vertical-align: top;\n",
       "    }\n",
       "\n",
       "    .dataframe thead th {\n",
       "        text-align: right;\n",
       "    }\n",
       "</style>\n",
       "<table border=\"1\" class=\"dataframe\">\n",
       "  <thead>\n",
       "    <tr style=\"text-align: right;\">\n",
       "      <th></th>\n",
       "      <th>Cty Code</th>\n",
       "      <th>County Name</th>\n",
       "      <th>Total Reg.</th>\n",
       "      <th>Number voting turnout</th>\n",
       "      <th>Percent voting turnout</th>\n",
       "      <th>Dem Reg.</th>\n",
       "      <th>Number voting turnout Dem</th>\n",
       "      <th>Percent voter turnout Dem</th>\n",
       "      <th>Rep Reg.</th>\n",
       "      <th>Number voting turnout.1</th>\n",
       "      <th>Percent voter turnout Rep</th>\n",
       "      <th>Reg other</th>\n",
       "      <th>Number voting turnout.2</th>\n",
       "      <th>Percent voting turnout other</th>\n",
       "    </tr>\n",
       "  </thead>\n",
       "  <tbody>\n",
       "    <tr>\n",
       "      <th>0</th>\n",
       "      <td>1</td>\n",
       "      <td>ADAIR</td>\n",
       "      <td>14031.0</td>\n",
       "      <td>8914.0</td>\n",
       "      <td>0.635</td>\n",
       "      <td>3306</td>\n",
       "      <td>1858</td>\n",
       "      <td>0.562</td>\n",
       "      <td>9862</td>\n",
       "      <td>6678</td>\n",
       "      <td>0.677</td>\n",
       "      <td>863</td>\n",
       "      <td>378</td>\n",
       "      <td>0.438</td>\n",
       "    </tr>\n",
       "    <tr>\n",
       "      <th>1</th>\n",
       "      <td>2</td>\n",
       "      <td>ALLEN</td>\n",
       "      <td>15779.0</td>\n",
       "      <td>9423.0</td>\n",
       "      <td>0.597</td>\n",
       "      <td>4490</td>\n",
       "      <td>2336</td>\n",
       "      <td>0.520</td>\n",
       "      <td>10065</td>\n",
       "      <td>6640</td>\n",
       "      <td>0.660</td>\n",
       "      <td>1224</td>\n",
       "      <td>447</td>\n",
       "      <td>0.365</td>\n",
       "    </tr>\n",
       "    <tr>\n",
       "      <th>2</th>\n",
       "      <td>3</td>\n",
       "      <td>ANDERSON</td>\n",
       "      <td>18879.0</td>\n",
       "      <td>13323.0</td>\n",
       "      <td>0.706</td>\n",
       "      <td>8650</td>\n",
       "      <td>6022</td>\n",
       "      <td>0.696</td>\n",
       "      <td>8848</td>\n",
       "      <td>6617</td>\n",
       "      <td>0.748</td>\n",
       "      <td>1381</td>\n",
       "      <td>684</td>\n",
       "      <td>0.495</td>\n",
       "    </tr>\n",
       "    <tr>\n",
       "      <th>3</th>\n",
       "      <td>4</td>\n",
       "      <td>BALLARD</td>\n",
       "      <td>6627.0</td>\n",
       "      <td>4244.0</td>\n",
       "      <td>0.640</td>\n",
       "      <td>3966</td>\n",
       "      <td>2545</td>\n",
       "      <td>0.642</td>\n",
       "      <td>2285</td>\n",
       "      <td>1546</td>\n",
       "      <td>0.677</td>\n",
       "      <td>376</td>\n",
       "      <td>153</td>\n",
       "      <td>0.407</td>\n",
       "    </tr>\n",
       "    <tr>\n",
       "      <th>4</th>\n",
       "      <td>5</td>\n",
       "      <td>BARREN</td>\n",
       "      <td>32753.0</td>\n",
       "      <td>20205.0</td>\n",
       "      <td>0.617</td>\n",
       "      <td>14878</td>\n",
       "      <td>8752</td>\n",
       "      <td>0.588</td>\n",
       "      <td>15543</td>\n",
       "      <td>10462</td>\n",
       "      <td>0.673</td>\n",
       "      <td>2332</td>\n",
       "      <td>991</td>\n",
       "      <td>0.425</td>\n",
       "    </tr>\n",
       "    <tr>\n",
       "      <th>...</th>\n",
       "      <td>...</td>\n",
       "      <td>...</td>\n",
       "      <td>...</td>\n",
       "      <td>...</td>\n",
       "      <td>...</td>\n",
       "      <td>...</td>\n",
       "      <td>...</td>\n",
       "      <td>...</td>\n",
       "      <td>...</td>\n",
       "      <td>...</td>\n",
       "      <td>...</td>\n",
       "      <td>...</td>\n",
       "      <td>...</td>\n",
       "      <td>...</td>\n",
       "    </tr>\n",
       "    <tr>\n",
       "      <th>115</th>\n",
       "      <td>116</td>\n",
       "      <td>WAYNE</td>\n",
       "      <td>15381.0</td>\n",
       "      <td>9090.0</td>\n",
       "      <td>0.591</td>\n",
       "      <td>4437</td>\n",
       "      <td>2281</td>\n",
       "      <td>0.514</td>\n",
       "      <td>10111</td>\n",
       "      <td>6506</td>\n",
       "      <td>0.643</td>\n",
       "      <td>833</td>\n",
       "      <td>303</td>\n",
       "      <td>0.364</td>\n",
       "    </tr>\n",
       "    <tr>\n",
       "      <th>116</th>\n",
       "      <td>117</td>\n",
       "      <td>WEBSTER</td>\n",
       "      <td>9794.0</td>\n",
       "      <td>6020.0</td>\n",
       "      <td>0.615</td>\n",
       "      <td>5936</td>\n",
       "      <td>3696</td>\n",
       "      <td>0.623</td>\n",
       "      <td>3269</td>\n",
       "      <td>2087</td>\n",
       "      <td>0.638</td>\n",
       "      <td>589</td>\n",
       "      <td>237</td>\n",
       "      <td>0.402</td>\n",
       "    </tr>\n",
       "    <tr>\n",
       "      <th>117</th>\n",
       "      <td>118</td>\n",
       "      <td>WHITLEY</td>\n",
       "      <td>28337.0</td>\n",
       "      <td>15435.0</td>\n",
       "      <td>0.545</td>\n",
       "      <td>5852</td>\n",
       "      <td>2428</td>\n",
       "      <td>0.415</td>\n",
       "      <td>20717</td>\n",
       "      <td>12346</td>\n",
       "      <td>0.596</td>\n",
       "      <td>1768</td>\n",
       "      <td>661</td>\n",
       "      <td>0.374</td>\n",
       "    </tr>\n",
       "    <tr>\n",
       "      <th>118</th>\n",
       "      <td>119</td>\n",
       "      <td>WOLFE</td>\n",
       "      <td>5677.0</td>\n",
       "      <td>3023.0</td>\n",
       "      <td>0.532</td>\n",
       "      <td>4527</td>\n",
       "      <td>2406</td>\n",
       "      <td>0.531</td>\n",
       "      <td>943</td>\n",
       "      <td>561</td>\n",
       "      <td>0.595</td>\n",
       "      <td>207</td>\n",
       "      <td>56</td>\n",
       "      <td>0.271</td>\n",
       "    </tr>\n",
       "    <tr>\n",
       "      <th>119</th>\n",
       "      <td>120</td>\n",
       "      <td>WOODFORD</td>\n",
       "      <td>NaN</td>\n",
       "      <td>NaN</td>\n",
       "      <td>0.687</td>\n",
       "      <td>11069</td>\n",
       "      <td>7816</td>\n",
       "      <td>0.706</td>\n",
       "      <td>9201</td>\n",
       "      <td>6407</td>\n",
       "      <td>0.696</td>\n",
       "      <td>1984</td>\n",
       "      <td>1057</td>\n",
       "      <td>0.533</td>\n",
       "    </tr>\n",
       "  </tbody>\n",
       "</table>\n",
       "<p>120 rows × 14 columns</p>\n",
       "</div>"
      ],
      "text/plain": [
       "     Cty Code County Name  Total Reg.  Number voting turnout  \\\n",
       "0           1       ADAIR     14031.0                 8914.0   \n",
       "1           2       ALLEN     15779.0                 9423.0   \n",
       "2           3    ANDERSON     18879.0                13323.0   \n",
       "3           4     BALLARD      6627.0                 4244.0   \n",
       "4           5      BARREN     32753.0                20205.0   \n",
       "..        ...         ...         ...                    ...   \n",
       "115       116       WAYNE     15381.0                 9090.0   \n",
       "116       117     WEBSTER      9794.0                 6020.0   \n",
       "117       118     WHITLEY     28337.0                15435.0   \n",
       "118       119       WOLFE      5677.0                 3023.0   \n",
       "119       120    WOODFORD         NaN                    NaN   \n",
       "\n",
       "     Percent voting turnout  Dem Reg.  Number voting turnout Dem  \\\n",
       "0                     0.635      3306                       1858   \n",
       "1                     0.597      4490                       2336   \n",
       "2                     0.706      8650                       6022   \n",
       "3                     0.640      3966                       2545   \n",
       "4                     0.617     14878                       8752   \n",
       "..                      ...       ...                        ...   \n",
       "115                   0.591      4437                       2281   \n",
       "116                   0.615      5936                       3696   \n",
       "117                   0.545      5852                       2428   \n",
       "118                   0.532      4527                       2406   \n",
       "119                   0.687     11069                       7816   \n",
       "\n",
       "     Percent voter turnout Dem  Rep Reg.  Number voting turnout.1  \\\n",
       "0                        0.562      9862                     6678   \n",
       "1                        0.520     10065                     6640   \n",
       "2                        0.696      8848                     6617   \n",
       "3                        0.642      2285                     1546   \n",
       "4                        0.588     15543                    10462   \n",
       "..                         ...       ...                      ...   \n",
       "115                      0.514     10111                     6506   \n",
       "116                      0.623      3269                     2087   \n",
       "117                      0.415     20717                    12346   \n",
       "118                      0.531       943                      561   \n",
       "119                      0.706      9201                     6407   \n",
       "\n",
       "     Percent voter turnout Rep  Reg other  Number voting turnout.2  \\\n",
       "0                        0.677        863                      378   \n",
       "1                        0.660       1224                      447   \n",
       "2                        0.748       1381                      684   \n",
       "3                        0.677        376                      153   \n",
       "4                        0.673       2332                      991   \n",
       "..                         ...        ...                      ...   \n",
       "115                      0.643        833                      303   \n",
       "116                      0.638        589                      237   \n",
       "117                      0.596       1768                      661   \n",
       "118                      0.595        207                       56   \n",
       "119                      0.696       1984                     1057   \n",
       "\n",
       "     Percent voting turnout other  \n",
       "0                           0.438  \n",
       "1                           0.365  \n",
       "2                           0.495  \n",
       "3                           0.407  \n",
       "4                           0.425  \n",
       "..                            ...  \n",
       "115                         0.364  \n",
       "116                         0.402  \n",
       "117                         0.374  \n",
       "118                         0.271  \n",
       "119                         0.533  \n",
       "\n",
       "[120 rows x 14 columns]"
      ]
     },
     "execution_count": 97,
     "metadata": {},
     "output_type": "execute_result"
    }
   ],
   "source": [
    "turnout_2020"
   ]
  },
  {
   "cell_type": "code",
   "execution_count": 98,
   "metadata": {},
   "outputs": [
    {
     "data": {
      "text/plain": [
       "Cty Code                          int64\n",
       "County Name                      object\n",
       "Total Reg.                      float64\n",
       "Number voting turnout           float64\n",
       "Percent voting turnout          float64\n",
       "Dem Reg.                          int64\n",
       "Number voting turnout Dem         int64\n",
       "Percent voter turnout Dem       float64\n",
       "Rep Reg.                          int64\n",
       "Number voting turnout.1           int64\n",
       "Percent voter turnout Rep       float64\n",
       "Reg other                         int64\n",
       "Number voting turnout.2           int64\n",
       "Percent voting turnout other    float64\n",
       "dtype: object"
      ]
     },
     "execution_count": 98,
     "metadata": {},
     "output_type": "execute_result"
    }
   ],
   "source": [
    "#Converting Total Reg and Percent Voting Turnout From flts to ints\n",
    "turnout_2020.dtypes\n"
   ]
  },
  {
   "cell_type": "code",
   "execution_count": 99,
   "metadata": {},
   "outputs": [],
   "source": [
    "turnout_2020 = turnout_2020.fillna(0)"
   ]
  },
  {
   "cell_type": "code",
   "execution_count": 100,
   "metadata": {},
   "outputs": [],
   "source": [
    "turnout_2020['Total Reg.'] = turnout_2020['Total Reg.'].astype(int)\n"
   ]
  },
  {
   "cell_type": "code",
   "execution_count": 101,
   "metadata": {},
   "outputs": [],
   "source": [
    "turnout_2020['Number voting turnout'] = turnout_2020['Number voting turnout'].astype(int)"
   ]
  },
  {
   "cell_type": "code",
   "execution_count": 102,
   "metadata": {},
   "outputs": [
    {
     "data": {
      "text/plain": [
       "Cty Code                          int64\n",
       "County Name                      object\n",
       "Total Reg.                        int32\n",
       "Number voting turnout             int32\n",
       "Percent voting turnout          float64\n",
       "Dem Reg.                          int64\n",
       "Number voting turnout Dem         int64\n",
       "Percent voter turnout Dem       float64\n",
       "Rep Reg.                          int64\n",
       "Number voting turnout.1           int64\n",
       "Percent voter turnout Rep       float64\n",
       "Reg other                         int64\n",
       "Number voting turnout.2           int64\n",
       "Percent voting turnout other    float64\n",
       "dtype: object"
      ]
     },
     "execution_count": 102,
     "metadata": {},
     "output_type": "execute_result"
    }
   ],
   "source": [
    "turnout_2020.dtypes"
   ]
  },
  {
   "cell_type": "code",
   "execution_count": 103,
   "metadata": {},
   "outputs": [
    {
     "name": "stdout",
     "output_type": "stream",
     "text": [
      "Note: you may need to restart the kernel to use updated packages.\n"
     ]
    },
    {
     "name": "stderr",
     "output_type": "stream",
     "text": [
      "ERROR: Could not find a version that satisfies the requirement upgrade (from versions: none)\n",
      "ERROR: No matching distribution found for upgrade\n",
      "WARNING: You are using pip version 22.0.4; however, version 22.3.1 is available.\n",
      "You should consider upgrading via the 'C:\\Users\\ivett\\AppData\\Local\\Microsoft\\WindowsApps\\PythonSoftwareFoundation.Python.3.9_qbz5n2kfra8p0\\python.exe -m pip install --upgrade pip' command.\n"
     ]
    }
   ],
   "source": [
    "%pip install -- upgrade nbformat\n"
   ]
  },
  {
   "cell_type": "code",
   "execution_count": 104,
   "metadata": {},
   "outputs": [],
   "source": [
    "import plotly.express as px"
   ]
  },
  {
   "cell_type": "code",
   "execution_count": 105,
   "metadata": {},
   "outputs": [],
   "source": [
    "fig = px.scatter(turnout_2020,x='Total Reg.',y='Number voting turnout', size='Number voting turnout Dem')"
   ]
  },
  {
   "cell_type": "code",
   "execution_count": 106,
   "metadata": {},
   "outputs": [
    {
     "data": {
      "application/vnd.plotly.v1+json": {
       "config": {
        "plotlyServerURL": "https://plot.ly"
       },
       "data": [
        {
         "hovertemplate": "Total Reg.=%{x}<br>Number voting turnout=%{y}<br>Number voting turnout Dem=%{marker.size}<extra></extra>",
         "legendgroup": "",
         "marker": {
          "color": "#636efa",
          "size": [
           1858,
           2336,
           6022,
           2545,
           8752,
           3911,
           3099,
           19355,
           5386,
           10267,
           7015,
           2606,
           4434,
           3836,
           15948,
           1084,
           3614,
           9071,
           18734,
           1578,
           2810,
           5327,
           868,
           12451,
           8575,
           794,
           596,
           1407,
           404,
           24738,
           1417,
           2367,
           2104,
           84722,
           3383,
           12166,
           17066,
           1606,
           1901,
           2203,
           4010,
           9149,
           2928,
           1391,
           8311,
           2178,
           21792,
           4945,
           5010,
           4020,
           12532,
           4007,
           1198,
           11129,
           558,
           228009,
           10086,
           2792,
           30485,
           4779,
           2680,
           3564,
           4640,
           2511,
           781,
           356,
           5095,
           1024,
           4040,
           2681,
           6519,
           2258,
           16137,
           1085,
           2484,
           18761,
           3025,
           6160,
           9374,
           646,
           4315,
           6350,
           1911,
           5431,
           1960,
           493,
           7006,
           4070,
           8811,
           12109,
           2386,
           3887,
           12993,
           2829,
           418,
           2884,
           6364,
           13867,
           3089,
           5656,
           798,
           1050,
           5649,
           1495,
           12292,
           9641,
           4332,
           3994,
           4341,
           3210,
           3211,
           2589,
           4263,
           25528,
           3302,
           2281,
           3696,
           2428,
           2406,
           7816
          ],
          "sizemode": "area",
          "sizeref": 570.0225,
          "symbol": "circle"
         },
         "mode": "markers",
         "name": "",
         "orientation": "v",
         "showlegend": false,
         "type": "scatter",
         "x": [
          14031,
          15779,
          18879,
          6627,
          32753,
          9727,
          21276,
          112540,
          15117,
          41063,
          23279,
          6802,
          11503,
          16162,
          63342,
          9748,
          10324,
          31878,
          80270,
          4140,
          8251,
          20412,
          11428,
          56018,
          30401,
          14727,
          7795,
          6760,
          5428,
          78258,
          9801,
          5368,
          10761,
          250698,
          11218,
          29849,
          40314,
          5613,
          6715,
          13774,
          19124,
          26731,
          18880,
          8896,
          30778,
          7069,
          90815,
          20640,
          14313,
          14356,
          36667,
          12557,
          3745,
          35732,
          10248,
          632848,
          43369,
          18517,
          142157,
          11240,
          24997,
          11261,
          49401,
          12945,
          5264,
          8359,
          16673,
          10491,
          18759,
          7829,
          19431,
          6691,
          57912,
          11323,
          7097,
          73297,
          9878,
          13845,
          26576,
          8305,
          13713,
          23635,
          5728,
          18744,
          8030,
          8724,
          21204,
          9348,
          23322,
          35480,
          5600,
          18333,
          56248,
          8465,
          3550,
          10785,
          20565,
          49482,
          10256,
          50029,
          1792,
          12835,
          16264,
          14469,
          44760,
          35450,
          14963,
          16298,
          19310,
          9050,
          12600,
          7622,
          10660,
          89576,
          9250,
          15381,
          9794,
          28337,
          5677,
          0
         ],
         "xaxis": "x",
         "y": [
          8914,
          9423,
          13323,
          4244,
          20205,
          5690,
          10125,
          67217,
          9725,
          22007,
          14601,
          4252,
          5323,
          10266,
          42180,
          6155,
          6449,
          17564,
          49119,
          2658,
          4156,
          11698,
          7204,
          23961,
          18299,
          7707,
          4968,
          4277,
          3324,
          49655,
          6167,
          2985,
          6565,
          154247,
          7105,
          16613,
          26359,
          2439,
          3889,
          8736,
          11153,
          17113,
          12045,
          5830,
          18349,
          4617,
          49005,
          11025,
          8892,
          8427,
          20793,
          8152,
          2210,
          21591,
          6183,
          388564,
          26544,
          10068,
          82720,
          6322,
          13333,
          7347,
          28400,
          7031,
          2807,
          4878,
          9237,
          5913,
          10957,
          5014,
          12394,
          4256,
          33746,
          6473,
          4805,
          44376,
          5556,
          8986,
          17690,
          3996,
          8014,
          14175,
          3139,
          11787,
          5060,
          5366,
          12944,
          5639,
          14347,
          23409,
          3420,
          11173,
          38194,
          5499,
          1901,
          6947,
          10754,
          25586,
          5548,
          31764,
          1151,
          7808,
          10127,
          9012,
          29145,
          23645,
          8738,
          11485,
          12565,
          5384,
          7406,
          4324,
          6575,
          55720,
          6253,
          9090,
          6020,
          15435,
          3023,
          0
         ],
         "yaxis": "y"
        }
       ],
       "layout": {
        "legend": {
         "itemsizing": "constant",
         "tracegroupgap": 0
        },
        "margin": {
         "t": 60
        },
        "template": {
         "data": {
          "bar": [
           {
            "error_x": {
             "color": "#2a3f5f"
            },
            "error_y": {
             "color": "#2a3f5f"
            },
            "marker": {
             "line": {
              "color": "#E5ECF6",
              "width": 0.5
             },
             "pattern": {
              "fillmode": "overlay",
              "size": 10,
              "solidity": 0.2
             }
            },
            "type": "bar"
           }
          ],
          "barpolar": [
           {
            "marker": {
             "line": {
              "color": "#E5ECF6",
              "width": 0.5
             },
             "pattern": {
              "fillmode": "overlay",
              "size": 10,
              "solidity": 0.2
             }
            },
            "type": "barpolar"
           }
          ],
          "carpet": [
           {
            "aaxis": {
             "endlinecolor": "#2a3f5f",
             "gridcolor": "white",
             "linecolor": "white",
             "minorgridcolor": "white",
             "startlinecolor": "#2a3f5f"
            },
            "baxis": {
             "endlinecolor": "#2a3f5f",
             "gridcolor": "white",
             "linecolor": "white",
             "minorgridcolor": "white",
             "startlinecolor": "#2a3f5f"
            },
            "type": "carpet"
           }
          ],
          "choropleth": [
           {
            "colorbar": {
             "outlinewidth": 0,
             "ticks": ""
            },
            "type": "choropleth"
           }
          ],
          "contour": [
           {
            "colorbar": {
             "outlinewidth": 0,
             "ticks": ""
            },
            "colorscale": [
             [
              0,
              "#0d0887"
             ],
             [
              0.1111111111111111,
              "#46039f"
             ],
             [
              0.2222222222222222,
              "#7201a8"
             ],
             [
              0.3333333333333333,
              "#9c179e"
             ],
             [
              0.4444444444444444,
              "#bd3786"
             ],
             [
              0.5555555555555556,
              "#d8576b"
             ],
             [
              0.6666666666666666,
              "#ed7953"
             ],
             [
              0.7777777777777778,
              "#fb9f3a"
             ],
             [
              0.8888888888888888,
              "#fdca26"
             ],
             [
              1,
              "#f0f921"
             ]
            ],
            "type": "contour"
           }
          ],
          "contourcarpet": [
           {
            "colorbar": {
             "outlinewidth": 0,
             "ticks": ""
            },
            "type": "contourcarpet"
           }
          ],
          "heatmap": [
           {
            "colorbar": {
             "outlinewidth": 0,
             "ticks": ""
            },
            "colorscale": [
             [
              0,
              "#0d0887"
             ],
             [
              0.1111111111111111,
              "#46039f"
             ],
             [
              0.2222222222222222,
              "#7201a8"
             ],
             [
              0.3333333333333333,
              "#9c179e"
             ],
             [
              0.4444444444444444,
              "#bd3786"
             ],
             [
              0.5555555555555556,
              "#d8576b"
             ],
             [
              0.6666666666666666,
              "#ed7953"
             ],
             [
              0.7777777777777778,
              "#fb9f3a"
             ],
             [
              0.8888888888888888,
              "#fdca26"
             ],
             [
              1,
              "#f0f921"
             ]
            ],
            "type": "heatmap"
           }
          ],
          "heatmapgl": [
           {
            "colorbar": {
             "outlinewidth": 0,
             "ticks": ""
            },
            "colorscale": [
             [
              0,
              "#0d0887"
             ],
             [
              0.1111111111111111,
              "#46039f"
             ],
             [
              0.2222222222222222,
              "#7201a8"
             ],
             [
              0.3333333333333333,
              "#9c179e"
             ],
             [
              0.4444444444444444,
              "#bd3786"
             ],
             [
              0.5555555555555556,
              "#d8576b"
             ],
             [
              0.6666666666666666,
              "#ed7953"
             ],
             [
              0.7777777777777778,
              "#fb9f3a"
             ],
             [
              0.8888888888888888,
              "#fdca26"
             ],
             [
              1,
              "#f0f921"
             ]
            ],
            "type": "heatmapgl"
           }
          ],
          "histogram": [
           {
            "marker": {
             "pattern": {
              "fillmode": "overlay",
              "size": 10,
              "solidity": 0.2
             }
            },
            "type": "histogram"
           }
          ],
          "histogram2d": [
           {
            "colorbar": {
             "outlinewidth": 0,
             "ticks": ""
            },
            "colorscale": [
             [
              0,
              "#0d0887"
             ],
             [
              0.1111111111111111,
              "#46039f"
             ],
             [
              0.2222222222222222,
              "#7201a8"
             ],
             [
              0.3333333333333333,
              "#9c179e"
             ],
             [
              0.4444444444444444,
              "#bd3786"
             ],
             [
              0.5555555555555556,
              "#d8576b"
             ],
             [
              0.6666666666666666,
              "#ed7953"
             ],
             [
              0.7777777777777778,
              "#fb9f3a"
             ],
             [
              0.8888888888888888,
              "#fdca26"
             ],
             [
              1,
              "#f0f921"
             ]
            ],
            "type": "histogram2d"
           }
          ],
          "histogram2dcontour": [
           {
            "colorbar": {
             "outlinewidth": 0,
             "ticks": ""
            },
            "colorscale": [
             [
              0,
              "#0d0887"
             ],
             [
              0.1111111111111111,
              "#46039f"
             ],
             [
              0.2222222222222222,
              "#7201a8"
             ],
             [
              0.3333333333333333,
              "#9c179e"
             ],
             [
              0.4444444444444444,
              "#bd3786"
             ],
             [
              0.5555555555555556,
              "#d8576b"
             ],
             [
              0.6666666666666666,
              "#ed7953"
             ],
             [
              0.7777777777777778,
              "#fb9f3a"
             ],
             [
              0.8888888888888888,
              "#fdca26"
             ],
             [
              1,
              "#f0f921"
             ]
            ],
            "type": "histogram2dcontour"
           }
          ],
          "mesh3d": [
           {
            "colorbar": {
             "outlinewidth": 0,
             "ticks": ""
            },
            "type": "mesh3d"
           }
          ],
          "parcoords": [
           {
            "line": {
             "colorbar": {
              "outlinewidth": 0,
              "ticks": ""
             }
            },
            "type": "parcoords"
           }
          ],
          "pie": [
           {
            "automargin": true,
            "type": "pie"
           }
          ],
          "scatter": [
           {
            "fillpattern": {
             "fillmode": "overlay",
             "size": 10,
             "solidity": 0.2
            },
            "type": "scatter"
           }
          ],
          "scatter3d": [
           {
            "line": {
             "colorbar": {
              "outlinewidth": 0,
              "ticks": ""
             }
            },
            "marker": {
             "colorbar": {
              "outlinewidth": 0,
              "ticks": ""
             }
            },
            "type": "scatter3d"
           }
          ],
          "scattercarpet": [
           {
            "marker": {
             "colorbar": {
              "outlinewidth": 0,
              "ticks": ""
             }
            },
            "type": "scattercarpet"
           }
          ],
          "scattergeo": [
           {
            "marker": {
             "colorbar": {
              "outlinewidth": 0,
              "ticks": ""
             }
            },
            "type": "scattergeo"
           }
          ],
          "scattergl": [
           {
            "marker": {
             "colorbar": {
              "outlinewidth": 0,
              "ticks": ""
             }
            },
            "type": "scattergl"
           }
          ],
          "scattermapbox": [
           {
            "marker": {
             "colorbar": {
              "outlinewidth": 0,
              "ticks": ""
             }
            },
            "type": "scattermapbox"
           }
          ],
          "scatterpolar": [
           {
            "marker": {
             "colorbar": {
              "outlinewidth": 0,
              "ticks": ""
             }
            },
            "type": "scatterpolar"
           }
          ],
          "scatterpolargl": [
           {
            "marker": {
             "colorbar": {
              "outlinewidth": 0,
              "ticks": ""
             }
            },
            "type": "scatterpolargl"
           }
          ],
          "scatterternary": [
           {
            "marker": {
             "colorbar": {
              "outlinewidth": 0,
              "ticks": ""
             }
            },
            "type": "scatterternary"
           }
          ],
          "surface": [
           {
            "colorbar": {
             "outlinewidth": 0,
             "ticks": ""
            },
            "colorscale": [
             [
              0,
              "#0d0887"
             ],
             [
              0.1111111111111111,
              "#46039f"
             ],
             [
              0.2222222222222222,
              "#7201a8"
             ],
             [
              0.3333333333333333,
              "#9c179e"
             ],
             [
              0.4444444444444444,
              "#bd3786"
             ],
             [
              0.5555555555555556,
              "#d8576b"
             ],
             [
              0.6666666666666666,
              "#ed7953"
             ],
             [
              0.7777777777777778,
              "#fb9f3a"
             ],
             [
              0.8888888888888888,
              "#fdca26"
             ],
             [
              1,
              "#f0f921"
             ]
            ],
            "type": "surface"
           }
          ],
          "table": [
           {
            "cells": {
             "fill": {
              "color": "#EBF0F8"
             },
             "line": {
              "color": "white"
             }
            },
            "header": {
             "fill": {
              "color": "#C8D4E3"
             },
             "line": {
              "color": "white"
             }
            },
            "type": "table"
           }
          ]
         },
         "layout": {
          "annotationdefaults": {
           "arrowcolor": "#2a3f5f",
           "arrowhead": 0,
           "arrowwidth": 1
          },
          "autotypenumbers": "strict",
          "coloraxis": {
           "colorbar": {
            "outlinewidth": 0,
            "ticks": ""
           }
          },
          "colorscale": {
           "diverging": [
            [
             0,
             "#8e0152"
            ],
            [
             0.1,
             "#c51b7d"
            ],
            [
             0.2,
             "#de77ae"
            ],
            [
             0.3,
             "#f1b6da"
            ],
            [
             0.4,
             "#fde0ef"
            ],
            [
             0.5,
             "#f7f7f7"
            ],
            [
             0.6,
             "#e6f5d0"
            ],
            [
             0.7,
             "#b8e186"
            ],
            [
             0.8,
             "#7fbc41"
            ],
            [
             0.9,
             "#4d9221"
            ],
            [
             1,
             "#276419"
            ]
           ],
           "sequential": [
            [
             0,
             "#0d0887"
            ],
            [
             0.1111111111111111,
             "#46039f"
            ],
            [
             0.2222222222222222,
             "#7201a8"
            ],
            [
             0.3333333333333333,
             "#9c179e"
            ],
            [
             0.4444444444444444,
             "#bd3786"
            ],
            [
             0.5555555555555556,
             "#d8576b"
            ],
            [
             0.6666666666666666,
             "#ed7953"
            ],
            [
             0.7777777777777778,
             "#fb9f3a"
            ],
            [
             0.8888888888888888,
             "#fdca26"
            ],
            [
             1,
             "#f0f921"
            ]
           ],
           "sequentialminus": [
            [
             0,
             "#0d0887"
            ],
            [
             0.1111111111111111,
             "#46039f"
            ],
            [
             0.2222222222222222,
             "#7201a8"
            ],
            [
             0.3333333333333333,
             "#9c179e"
            ],
            [
             0.4444444444444444,
             "#bd3786"
            ],
            [
             0.5555555555555556,
             "#d8576b"
            ],
            [
             0.6666666666666666,
             "#ed7953"
            ],
            [
             0.7777777777777778,
             "#fb9f3a"
            ],
            [
             0.8888888888888888,
             "#fdca26"
            ],
            [
             1,
             "#f0f921"
            ]
           ]
          },
          "colorway": [
           "#636efa",
           "#EF553B",
           "#00cc96",
           "#ab63fa",
           "#FFA15A",
           "#19d3f3",
           "#FF6692",
           "#B6E880",
           "#FF97FF",
           "#FECB52"
          ],
          "font": {
           "color": "#2a3f5f"
          },
          "geo": {
           "bgcolor": "white",
           "lakecolor": "white",
           "landcolor": "#E5ECF6",
           "showlakes": true,
           "showland": true,
           "subunitcolor": "white"
          },
          "hoverlabel": {
           "align": "left"
          },
          "hovermode": "closest",
          "mapbox": {
           "style": "light"
          },
          "paper_bgcolor": "white",
          "plot_bgcolor": "#E5ECF6",
          "polar": {
           "angularaxis": {
            "gridcolor": "white",
            "linecolor": "white",
            "ticks": ""
           },
           "bgcolor": "#E5ECF6",
           "radialaxis": {
            "gridcolor": "white",
            "linecolor": "white",
            "ticks": ""
           }
          },
          "scene": {
           "xaxis": {
            "backgroundcolor": "#E5ECF6",
            "gridcolor": "white",
            "gridwidth": 2,
            "linecolor": "white",
            "showbackground": true,
            "ticks": "",
            "zerolinecolor": "white"
           },
           "yaxis": {
            "backgroundcolor": "#E5ECF6",
            "gridcolor": "white",
            "gridwidth": 2,
            "linecolor": "white",
            "showbackground": true,
            "ticks": "",
            "zerolinecolor": "white"
           },
           "zaxis": {
            "backgroundcolor": "#E5ECF6",
            "gridcolor": "white",
            "gridwidth": 2,
            "linecolor": "white",
            "showbackground": true,
            "ticks": "",
            "zerolinecolor": "white"
           }
          },
          "shapedefaults": {
           "line": {
            "color": "#2a3f5f"
           }
          },
          "ternary": {
           "aaxis": {
            "gridcolor": "white",
            "linecolor": "white",
            "ticks": ""
           },
           "baxis": {
            "gridcolor": "white",
            "linecolor": "white",
            "ticks": ""
           },
           "bgcolor": "#E5ECF6",
           "caxis": {
            "gridcolor": "white",
            "linecolor": "white",
            "ticks": ""
           }
          },
          "title": {
           "x": 0.05
          },
          "xaxis": {
           "automargin": true,
           "gridcolor": "white",
           "linecolor": "white",
           "ticks": "",
           "title": {
            "standoff": 15
           },
           "zerolinecolor": "white",
           "zerolinewidth": 2
          },
          "yaxis": {
           "automargin": true,
           "gridcolor": "white",
           "linecolor": "white",
           "ticks": "",
           "title": {
            "standoff": 15
           },
           "zerolinecolor": "white",
           "zerolinewidth": 2
          }
         }
        },
        "xaxis": {
         "anchor": "y",
         "domain": [
          0,
          1
         ],
         "title": {
          "text": "Total Reg."
         }
        },
        "yaxis": {
         "anchor": "x",
         "domain": [
          0,
          1
         ],
         "title": {
          "text": "Number voting turnout"
         }
        }
       }
      }
     },
     "metadata": {},
     "output_type": "display_data"
    }
   ],
   "source": [
    "fig.show()"
   ]
  },
  {
   "cell_type": "code",
   "execution_count": 107,
   "metadata": {},
   "outputs": [],
   "source": [
    "fig = px.scatter(turnout_2020,x='Total Reg.',y='Number voting turnout', size='Percent voter turnout Rep')"
   ]
  },
  {
   "cell_type": "code",
   "execution_count": 108,
   "metadata": {},
   "outputs": [
    {
     "data": {
      "application/vnd.plotly.v1+json": {
       "config": {
        "plotlyServerURL": "https://plot.ly"
       },
       "data": [
        {
         "hovertemplate": "Total Reg.=%{x}<br>Number voting turnout=%{y}<br>Percent voter turnout Rep=%{marker.size}<extra></extra>",
         "legendgroup": "",
         "marker": {
          "color": "#636efa",
          "size": [
           0.677,
           0.66,
           0.748,
           0.677,
           0.673,
           0.63,
           0.556,
           0.646,
           0.676,
           0.596,
           0.661,
           0.672,
           0.492,
           0.684,
           0.72,
           0.673,
           0.664,
           0.587,
           0.666,
           0.702,
           0.54,
           0.645,
           0.667,
           0.454,
           0.656,
           0.543,
           0.658,
           0.703,
           0.638,
           0.677,
           0.686,
           0.622,
           0.66,
           0.617,
           0.7,
           0.631,
           0.679,
           0.495,
           0.624,
           0.688,
           0.653,
           0.699,
           0.689,
           0.72,
           0.659,
           0.69,
           0.58,
           0.651,
           0.638,
           0.637,
           0.599,
           0.686,
           0.674,
           0.644,
           0.639,
           0.627,
           0.639,
           0.609,
           0.639,
           0.698,
           0.591,
           0.686,
           0.629,
           0.627,
           0.576,
           0.609,
           0.679,
           0.605,
           0.643,
           0.695,
           0.691,
           0.695,
           0.638,
           0.622,
           0.737,
           0.654,
           0.661,
           0.65,
           0.697,
           0.529,
           0.618,
           0.625,
           0.647,
           0.669,
           0.685,
           0.649,
           0.666,
           0.662,
           0.667,
           0.693,
           0.616,
           0.666,
           0.699,
           0.689,
           0.576,
           0.706,
           0.631,
           0.619,
           0.613,
           0.69,
           0.686,
           0.645,
           0.679,
           0.657,
           0.679,
           0.709,
           0.633,
           0.751,
           0.709,
           0.637,
           0.624,
           0.616,
           0.651,
           0.667,
           0.693,
           0.643,
           0.638,
           0.596,
           0.595,
           0.696
          ],
          "sizemode": "area",
          "sizeref": 0.0018775,
          "symbol": "circle"
         },
         "mode": "markers",
         "name": "",
         "orientation": "v",
         "showlegend": false,
         "type": "scatter",
         "x": [
          14031,
          15779,
          18879,
          6627,
          32753,
          9727,
          21276,
          112540,
          15117,
          41063,
          23279,
          6802,
          11503,
          16162,
          63342,
          9748,
          10324,
          31878,
          80270,
          4140,
          8251,
          20412,
          11428,
          56018,
          30401,
          14727,
          7795,
          6760,
          5428,
          78258,
          9801,
          5368,
          10761,
          250698,
          11218,
          29849,
          40314,
          5613,
          6715,
          13774,
          19124,
          26731,
          18880,
          8896,
          30778,
          7069,
          90815,
          20640,
          14313,
          14356,
          36667,
          12557,
          3745,
          35732,
          10248,
          632848,
          43369,
          18517,
          142157,
          11240,
          24997,
          11261,
          49401,
          12945,
          5264,
          8359,
          16673,
          10491,
          18759,
          7829,
          19431,
          6691,
          57912,
          11323,
          7097,
          73297,
          9878,
          13845,
          26576,
          8305,
          13713,
          23635,
          5728,
          18744,
          8030,
          8724,
          21204,
          9348,
          23322,
          35480,
          5600,
          18333,
          56248,
          8465,
          3550,
          10785,
          20565,
          49482,
          10256,
          50029,
          1792,
          12835,
          16264,
          14469,
          44760,
          35450,
          14963,
          16298,
          19310,
          9050,
          12600,
          7622,
          10660,
          89576,
          9250,
          15381,
          9794,
          28337,
          5677,
          0
         ],
         "xaxis": "x",
         "y": [
          8914,
          9423,
          13323,
          4244,
          20205,
          5690,
          10125,
          67217,
          9725,
          22007,
          14601,
          4252,
          5323,
          10266,
          42180,
          6155,
          6449,
          17564,
          49119,
          2658,
          4156,
          11698,
          7204,
          23961,
          18299,
          7707,
          4968,
          4277,
          3324,
          49655,
          6167,
          2985,
          6565,
          154247,
          7105,
          16613,
          26359,
          2439,
          3889,
          8736,
          11153,
          17113,
          12045,
          5830,
          18349,
          4617,
          49005,
          11025,
          8892,
          8427,
          20793,
          8152,
          2210,
          21591,
          6183,
          388564,
          26544,
          10068,
          82720,
          6322,
          13333,
          7347,
          28400,
          7031,
          2807,
          4878,
          9237,
          5913,
          10957,
          5014,
          12394,
          4256,
          33746,
          6473,
          4805,
          44376,
          5556,
          8986,
          17690,
          3996,
          8014,
          14175,
          3139,
          11787,
          5060,
          5366,
          12944,
          5639,
          14347,
          23409,
          3420,
          11173,
          38194,
          5499,
          1901,
          6947,
          10754,
          25586,
          5548,
          31764,
          1151,
          7808,
          10127,
          9012,
          29145,
          23645,
          8738,
          11485,
          12565,
          5384,
          7406,
          4324,
          6575,
          55720,
          6253,
          9090,
          6020,
          15435,
          3023,
          0
         ],
         "yaxis": "y"
        }
       ],
       "layout": {
        "legend": {
         "itemsizing": "constant",
         "tracegroupgap": 0
        },
        "margin": {
         "t": 60
        },
        "template": {
         "data": {
          "bar": [
           {
            "error_x": {
             "color": "#2a3f5f"
            },
            "error_y": {
             "color": "#2a3f5f"
            },
            "marker": {
             "line": {
              "color": "#E5ECF6",
              "width": 0.5
             },
             "pattern": {
              "fillmode": "overlay",
              "size": 10,
              "solidity": 0.2
             }
            },
            "type": "bar"
           }
          ],
          "barpolar": [
           {
            "marker": {
             "line": {
              "color": "#E5ECF6",
              "width": 0.5
             },
             "pattern": {
              "fillmode": "overlay",
              "size": 10,
              "solidity": 0.2
             }
            },
            "type": "barpolar"
           }
          ],
          "carpet": [
           {
            "aaxis": {
             "endlinecolor": "#2a3f5f",
             "gridcolor": "white",
             "linecolor": "white",
             "minorgridcolor": "white",
             "startlinecolor": "#2a3f5f"
            },
            "baxis": {
             "endlinecolor": "#2a3f5f",
             "gridcolor": "white",
             "linecolor": "white",
             "minorgridcolor": "white",
             "startlinecolor": "#2a3f5f"
            },
            "type": "carpet"
           }
          ],
          "choropleth": [
           {
            "colorbar": {
             "outlinewidth": 0,
             "ticks": ""
            },
            "type": "choropleth"
           }
          ],
          "contour": [
           {
            "colorbar": {
             "outlinewidth": 0,
             "ticks": ""
            },
            "colorscale": [
             [
              0,
              "#0d0887"
             ],
             [
              0.1111111111111111,
              "#46039f"
             ],
             [
              0.2222222222222222,
              "#7201a8"
             ],
             [
              0.3333333333333333,
              "#9c179e"
             ],
             [
              0.4444444444444444,
              "#bd3786"
             ],
             [
              0.5555555555555556,
              "#d8576b"
             ],
             [
              0.6666666666666666,
              "#ed7953"
             ],
             [
              0.7777777777777778,
              "#fb9f3a"
             ],
             [
              0.8888888888888888,
              "#fdca26"
             ],
             [
              1,
              "#f0f921"
             ]
            ],
            "type": "contour"
           }
          ],
          "contourcarpet": [
           {
            "colorbar": {
             "outlinewidth": 0,
             "ticks": ""
            },
            "type": "contourcarpet"
           }
          ],
          "heatmap": [
           {
            "colorbar": {
             "outlinewidth": 0,
             "ticks": ""
            },
            "colorscale": [
             [
              0,
              "#0d0887"
             ],
             [
              0.1111111111111111,
              "#46039f"
             ],
             [
              0.2222222222222222,
              "#7201a8"
             ],
             [
              0.3333333333333333,
              "#9c179e"
             ],
             [
              0.4444444444444444,
              "#bd3786"
             ],
             [
              0.5555555555555556,
              "#d8576b"
             ],
             [
              0.6666666666666666,
              "#ed7953"
             ],
             [
              0.7777777777777778,
              "#fb9f3a"
             ],
             [
              0.8888888888888888,
              "#fdca26"
             ],
             [
              1,
              "#f0f921"
             ]
            ],
            "type": "heatmap"
           }
          ],
          "heatmapgl": [
           {
            "colorbar": {
             "outlinewidth": 0,
             "ticks": ""
            },
            "colorscale": [
             [
              0,
              "#0d0887"
             ],
             [
              0.1111111111111111,
              "#46039f"
             ],
             [
              0.2222222222222222,
              "#7201a8"
             ],
             [
              0.3333333333333333,
              "#9c179e"
             ],
             [
              0.4444444444444444,
              "#bd3786"
             ],
             [
              0.5555555555555556,
              "#d8576b"
             ],
             [
              0.6666666666666666,
              "#ed7953"
             ],
             [
              0.7777777777777778,
              "#fb9f3a"
             ],
             [
              0.8888888888888888,
              "#fdca26"
             ],
             [
              1,
              "#f0f921"
             ]
            ],
            "type": "heatmapgl"
           }
          ],
          "histogram": [
           {
            "marker": {
             "pattern": {
              "fillmode": "overlay",
              "size": 10,
              "solidity": 0.2
             }
            },
            "type": "histogram"
           }
          ],
          "histogram2d": [
           {
            "colorbar": {
             "outlinewidth": 0,
             "ticks": ""
            },
            "colorscale": [
             [
              0,
              "#0d0887"
             ],
             [
              0.1111111111111111,
              "#46039f"
             ],
             [
              0.2222222222222222,
              "#7201a8"
             ],
             [
              0.3333333333333333,
              "#9c179e"
             ],
             [
              0.4444444444444444,
              "#bd3786"
             ],
             [
              0.5555555555555556,
              "#d8576b"
             ],
             [
              0.6666666666666666,
              "#ed7953"
             ],
             [
              0.7777777777777778,
              "#fb9f3a"
             ],
             [
              0.8888888888888888,
              "#fdca26"
             ],
             [
              1,
              "#f0f921"
             ]
            ],
            "type": "histogram2d"
           }
          ],
          "histogram2dcontour": [
           {
            "colorbar": {
             "outlinewidth": 0,
             "ticks": ""
            },
            "colorscale": [
             [
              0,
              "#0d0887"
             ],
             [
              0.1111111111111111,
              "#46039f"
             ],
             [
              0.2222222222222222,
              "#7201a8"
             ],
             [
              0.3333333333333333,
              "#9c179e"
             ],
             [
              0.4444444444444444,
              "#bd3786"
             ],
             [
              0.5555555555555556,
              "#d8576b"
             ],
             [
              0.6666666666666666,
              "#ed7953"
             ],
             [
              0.7777777777777778,
              "#fb9f3a"
             ],
             [
              0.8888888888888888,
              "#fdca26"
             ],
             [
              1,
              "#f0f921"
             ]
            ],
            "type": "histogram2dcontour"
           }
          ],
          "mesh3d": [
           {
            "colorbar": {
             "outlinewidth": 0,
             "ticks": ""
            },
            "type": "mesh3d"
           }
          ],
          "parcoords": [
           {
            "line": {
             "colorbar": {
              "outlinewidth": 0,
              "ticks": ""
             }
            },
            "type": "parcoords"
           }
          ],
          "pie": [
           {
            "automargin": true,
            "type": "pie"
           }
          ],
          "scatter": [
           {
            "fillpattern": {
             "fillmode": "overlay",
             "size": 10,
             "solidity": 0.2
            },
            "type": "scatter"
           }
          ],
          "scatter3d": [
           {
            "line": {
             "colorbar": {
              "outlinewidth": 0,
              "ticks": ""
             }
            },
            "marker": {
             "colorbar": {
              "outlinewidth": 0,
              "ticks": ""
             }
            },
            "type": "scatter3d"
           }
          ],
          "scattercarpet": [
           {
            "marker": {
             "colorbar": {
              "outlinewidth": 0,
              "ticks": ""
             }
            },
            "type": "scattercarpet"
           }
          ],
          "scattergeo": [
           {
            "marker": {
             "colorbar": {
              "outlinewidth": 0,
              "ticks": ""
             }
            },
            "type": "scattergeo"
           }
          ],
          "scattergl": [
           {
            "marker": {
             "colorbar": {
              "outlinewidth": 0,
              "ticks": ""
             }
            },
            "type": "scattergl"
           }
          ],
          "scattermapbox": [
           {
            "marker": {
             "colorbar": {
              "outlinewidth": 0,
              "ticks": ""
             }
            },
            "type": "scattermapbox"
           }
          ],
          "scatterpolar": [
           {
            "marker": {
             "colorbar": {
              "outlinewidth": 0,
              "ticks": ""
             }
            },
            "type": "scatterpolar"
           }
          ],
          "scatterpolargl": [
           {
            "marker": {
             "colorbar": {
              "outlinewidth": 0,
              "ticks": ""
             }
            },
            "type": "scatterpolargl"
           }
          ],
          "scatterternary": [
           {
            "marker": {
             "colorbar": {
              "outlinewidth": 0,
              "ticks": ""
             }
            },
            "type": "scatterternary"
           }
          ],
          "surface": [
           {
            "colorbar": {
             "outlinewidth": 0,
             "ticks": ""
            },
            "colorscale": [
             [
              0,
              "#0d0887"
             ],
             [
              0.1111111111111111,
              "#46039f"
             ],
             [
              0.2222222222222222,
              "#7201a8"
             ],
             [
              0.3333333333333333,
              "#9c179e"
             ],
             [
              0.4444444444444444,
              "#bd3786"
             ],
             [
              0.5555555555555556,
              "#d8576b"
             ],
             [
              0.6666666666666666,
              "#ed7953"
             ],
             [
              0.7777777777777778,
              "#fb9f3a"
             ],
             [
              0.8888888888888888,
              "#fdca26"
             ],
             [
              1,
              "#f0f921"
             ]
            ],
            "type": "surface"
           }
          ],
          "table": [
           {
            "cells": {
             "fill": {
              "color": "#EBF0F8"
             },
             "line": {
              "color": "white"
             }
            },
            "header": {
             "fill": {
              "color": "#C8D4E3"
             },
             "line": {
              "color": "white"
             }
            },
            "type": "table"
           }
          ]
         },
         "layout": {
          "annotationdefaults": {
           "arrowcolor": "#2a3f5f",
           "arrowhead": 0,
           "arrowwidth": 1
          },
          "autotypenumbers": "strict",
          "coloraxis": {
           "colorbar": {
            "outlinewidth": 0,
            "ticks": ""
           }
          },
          "colorscale": {
           "diverging": [
            [
             0,
             "#8e0152"
            ],
            [
             0.1,
             "#c51b7d"
            ],
            [
             0.2,
             "#de77ae"
            ],
            [
             0.3,
             "#f1b6da"
            ],
            [
             0.4,
             "#fde0ef"
            ],
            [
             0.5,
             "#f7f7f7"
            ],
            [
             0.6,
             "#e6f5d0"
            ],
            [
             0.7,
             "#b8e186"
            ],
            [
             0.8,
             "#7fbc41"
            ],
            [
             0.9,
             "#4d9221"
            ],
            [
             1,
             "#276419"
            ]
           ],
           "sequential": [
            [
             0,
             "#0d0887"
            ],
            [
             0.1111111111111111,
             "#46039f"
            ],
            [
             0.2222222222222222,
             "#7201a8"
            ],
            [
             0.3333333333333333,
             "#9c179e"
            ],
            [
             0.4444444444444444,
             "#bd3786"
            ],
            [
             0.5555555555555556,
             "#d8576b"
            ],
            [
             0.6666666666666666,
             "#ed7953"
            ],
            [
             0.7777777777777778,
             "#fb9f3a"
            ],
            [
             0.8888888888888888,
             "#fdca26"
            ],
            [
             1,
             "#f0f921"
            ]
           ],
           "sequentialminus": [
            [
             0,
             "#0d0887"
            ],
            [
             0.1111111111111111,
             "#46039f"
            ],
            [
             0.2222222222222222,
             "#7201a8"
            ],
            [
             0.3333333333333333,
             "#9c179e"
            ],
            [
             0.4444444444444444,
             "#bd3786"
            ],
            [
             0.5555555555555556,
             "#d8576b"
            ],
            [
             0.6666666666666666,
             "#ed7953"
            ],
            [
             0.7777777777777778,
             "#fb9f3a"
            ],
            [
             0.8888888888888888,
             "#fdca26"
            ],
            [
             1,
             "#f0f921"
            ]
           ]
          },
          "colorway": [
           "#636efa",
           "#EF553B",
           "#00cc96",
           "#ab63fa",
           "#FFA15A",
           "#19d3f3",
           "#FF6692",
           "#B6E880",
           "#FF97FF",
           "#FECB52"
          ],
          "font": {
           "color": "#2a3f5f"
          },
          "geo": {
           "bgcolor": "white",
           "lakecolor": "white",
           "landcolor": "#E5ECF6",
           "showlakes": true,
           "showland": true,
           "subunitcolor": "white"
          },
          "hoverlabel": {
           "align": "left"
          },
          "hovermode": "closest",
          "mapbox": {
           "style": "light"
          },
          "paper_bgcolor": "white",
          "plot_bgcolor": "#E5ECF6",
          "polar": {
           "angularaxis": {
            "gridcolor": "white",
            "linecolor": "white",
            "ticks": ""
           },
           "bgcolor": "#E5ECF6",
           "radialaxis": {
            "gridcolor": "white",
            "linecolor": "white",
            "ticks": ""
           }
          },
          "scene": {
           "xaxis": {
            "backgroundcolor": "#E5ECF6",
            "gridcolor": "white",
            "gridwidth": 2,
            "linecolor": "white",
            "showbackground": true,
            "ticks": "",
            "zerolinecolor": "white"
           },
           "yaxis": {
            "backgroundcolor": "#E5ECF6",
            "gridcolor": "white",
            "gridwidth": 2,
            "linecolor": "white",
            "showbackground": true,
            "ticks": "",
            "zerolinecolor": "white"
           },
           "zaxis": {
            "backgroundcolor": "#E5ECF6",
            "gridcolor": "white",
            "gridwidth": 2,
            "linecolor": "white",
            "showbackground": true,
            "ticks": "",
            "zerolinecolor": "white"
           }
          },
          "shapedefaults": {
           "line": {
            "color": "#2a3f5f"
           }
          },
          "ternary": {
           "aaxis": {
            "gridcolor": "white",
            "linecolor": "white",
            "ticks": ""
           },
           "baxis": {
            "gridcolor": "white",
            "linecolor": "white",
            "ticks": ""
           },
           "bgcolor": "#E5ECF6",
           "caxis": {
            "gridcolor": "white",
            "linecolor": "white",
            "ticks": ""
           }
          },
          "title": {
           "x": 0.05
          },
          "xaxis": {
           "automargin": true,
           "gridcolor": "white",
           "linecolor": "white",
           "ticks": "",
           "title": {
            "standoff": 15
           },
           "zerolinecolor": "white",
           "zerolinewidth": 2
          },
          "yaxis": {
           "automargin": true,
           "gridcolor": "white",
           "linecolor": "white",
           "ticks": "",
           "title": {
            "standoff": 15
           },
           "zerolinecolor": "white",
           "zerolinewidth": 2
          }
         }
        },
        "xaxis": {
         "anchor": "y",
         "domain": [
          0,
          1
         ],
         "title": {
          "text": "Total Reg."
         }
        },
        "yaxis": {
         "anchor": "x",
         "domain": [
          0,
          1
         ],
         "title": {
          "text": "Number voting turnout"
         }
        }
       }
      }
     },
     "metadata": {},
     "output_type": "display_data"
    }
   ],
   "source": [
    "fig.show()"
   ]
  },
  {
   "cell_type": "code",
   "execution_count": 109,
   "metadata": {},
   "outputs": [
    {
     "data": {
      "text/plain": [
       "[]"
      ]
     },
     "execution_count": 109,
     "metadata": {},
     "output_type": "execute_result"
    },
    {
     "data": {
      "image/png": "[encoded data removed]",
      "text/plain": [
       "<Figure size 640x480 with 1 Axes>"
      ]
     },
     "metadata": {},
     "output_type": "display_data"
    }
   ],
   "source": [
    "republican = turnout_2020['Percent voter turnout Rep']\n",
    "democrat = turnout_2020['Percent voter turnout Dem']\n",
    "plt.hist(republican,label='republican')\n",
    "plt.hist(democrat,label='democrat')\n",
    "plt.legend()\n",
    "plt.plot()"
   ]
  },
  {
   "cell_type": "code",
   "execution_count": 110,
   "metadata": {},
   "outputs": [
    {
     "data": {
      "text/html": [
       "<div>\n",
       "<style scoped>\n",
       "    .dataframe tbody tr th:only-of-type {\n",
       "        vertical-align: middle;\n",
       "    }\n",
       "\n",
       "    .dataframe tbody tr th {\n",
       "        vertical-align: top;\n",
       "    }\n",
       "\n",
       "    .dataframe thead th {\n",
       "        text-align: right;\n",
       "    }\n",
       "</style>\n",
       "<table border=\"1\" class=\"dataframe\">\n",
       "  <thead>\n",
       "    <tr style=\"text-align: right;\">\n",
       "      <th></th>\n",
       "      <th>Cty Code</th>\n",
       "      <th>County Name</th>\n",
       "      <th>Total Reg.</th>\n",
       "      <th>Number voting turnout</th>\n",
       "      <th>Percent voting turnout</th>\n",
       "      <th>Dem Reg.</th>\n",
       "      <th>Number voting turnout Dem</th>\n",
       "      <th>Percent voter turnout Dem</th>\n",
       "      <th>Rep Reg.</th>\n",
       "      <th>Number voting turnout.1</th>\n",
       "      <th>Percent voter turnout Rep</th>\n",
       "      <th>Reg other</th>\n",
       "      <th>Number voting turnout.2</th>\n",
       "      <th>Percent voting turnout other</th>\n",
       "    </tr>\n",
       "  </thead>\n",
       "  <tbody>\n",
       "    <tr>\n",
       "      <th>2</th>\n",
       "      <td>3</td>\n",
       "      <td>ANDERSON</td>\n",
       "      <td>18879</td>\n",
       "      <td>13323</td>\n",
       "      <td>0.706</td>\n",
       "      <td>8650</td>\n",
       "      <td>6022</td>\n",
       "      <td>0.696</td>\n",
       "      <td>8848</td>\n",
       "      <td>6617</td>\n",
       "      <td>0.748</td>\n",
       "      <td>1381</td>\n",
       "      <td>684</td>\n",
       "      <td>0.495</td>\n",
       "    </tr>\n",
       "    <tr>\n",
       "      <th>107</th>\n",
       "      <td>108</td>\n",
       "      <td>SPENCER</td>\n",
       "      <td>16298</td>\n",
       "      <td>11485</td>\n",
       "      <td>0.705</td>\n",
       "      <td>6004</td>\n",
       "      <td>3994</td>\n",
       "      <td>0.665</td>\n",
       "      <td>8957</td>\n",
       "      <td>6725</td>\n",
       "      <td>0.751</td>\n",
       "      <td>1337</td>\n",
       "      <td>766</td>\n",
       "      <td>0.573</td>\n",
       "    </tr>\n",
       "    <tr>\n",
       "      <th>119</th>\n",
       "      <td>120</td>\n",
       "      <td>WOODFORD</td>\n",
       "      <td>0</td>\n",
       "      <td>0</td>\n",
       "      <td>0.687</td>\n",
       "      <td>11069</td>\n",
       "      <td>7816</td>\n",
       "      <td>0.706</td>\n",
       "      <td>9201</td>\n",
       "      <td>6407</td>\n",
       "      <td>0.696</td>\n",
       "      <td>1984</td>\n",
       "      <td>1057</td>\n",
       "      <td>0.533</td>\n",
       "    </tr>\n",
       "    <tr>\n",
       "      <th>92</th>\n",
       "      <td>93</td>\n",
       "      <td>OLDHAM</td>\n",
       "      <td>56248</td>\n",
       "      <td>38194</td>\n",
       "      <td>0.679</td>\n",
       "      <td>18861</td>\n",
       "      <td>12993</td>\n",
       "      <td>0.689</td>\n",
       "      <td>31035</td>\n",
       "      <td>21705</td>\n",
       "      <td>0.699</td>\n",
       "      <td>6352</td>\n",
       "      <td>3496</td>\n",
       "      <td>0.550</td>\n",
       "    </tr>\n",
       "    <tr>\n",
       "      <th>74</th>\n",
       "      <td>75</td>\n",
       "      <td>MCLEAN</td>\n",
       "      <td>7097</td>\n",
       "      <td>4805</td>\n",
       "      <td>0.677</td>\n",
       "      <td>3811</td>\n",
       "      <td>2484</td>\n",
       "      <td>0.652</td>\n",
       "      <td>2875</td>\n",
       "      <td>2120</td>\n",
       "      <td>0.737</td>\n",
       "      <td>411</td>\n",
       "      <td>201</td>\n",
       "      <td>0.489</td>\n",
       "    </tr>\n",
       "  </tbody>\n",
       "</table>\n",
       "</div>"
      ],
      "text/plain": [
       "     Cty Code County Name  Total Reg.  Number voting turnout  \\\n",
       "2           3    ANDERSON       18879                  13323   \n",
       "107       108     SPENCER       16298                  11485   \n",
       "119       120    WOODFORD           0                      0   \n",
       "92         93      OLDHAM       56248                  38194   \n",
       "74         75      MCLEAN        7097                   4805   \n",
       "\n",
       "     Percent voting turnout  Dem Reg.  Number voting turnout Dem  \\\n",
       "2                     0.706      8650                       6022   \n",
       "107                   0.705      6004                       3994   \n",
       "119                   0.687     11069                       7816   \n",
       "92                    0.679     18861                      12993   \n",
       "74                    0.677      3811                       2484   \n",
       "\n",
       "     Percent voter turnout Dem  Rep Reg.  Number voting turnout.1  \\\n",
       "2                        0.696      8848                     6617   \n",
       "107                      0.665      8957                     6725   \n",
       "119                      0.706      9201                     6407   \n",
       "92                       0.689     31035                    21705   \n",
       "74                       0.652      2875                     2120   \n",
       "\n",
       "     Percent voter turnout Rep  Reg other  Number voting turnout.2  \\\n",
       "2                        0.748       1381                      684   \n",
       "107                      0.751       1337                      766   \n",
       "119                      0.696       1984                     1057   \n",
       "92                       0.699       6352                     3496   \n",
       "74                       0.737        411                      201   \n",
       "\n",
       "     Percent voting turnout other  \n",
       "2                           0.495  \n",
       "107                         0.573  \n",
       "119                         0.533  \n",
       "92                          0.550  \n",
       "74                          0.489  "
      ]
     },
     "execution_count": 110,
     "metadata": {},
     "output_type": "execute_result"
    }
   ],
   "source": [
    "df=turnout_2020.nlargest(n=5, columns=['Percent voting turnout'])\n",
    "df"
   ]
  },
  {
   "cell_type": "code",
   "execution_count": 111,
   "metadata": {},
   "outputs": [
    {
     "name": "stderr",
     "output_type": "stream",
     "text": [
      "'pi' is not recognized as an internal or external command,\n",
      "operable program or batch file.\n"
     ]
    }
   ],
   "source": [
    "!pi"
   ]
  },
  {
   "cell_type": "code",
   "execution_count": 112,
   "metadata": {},
   "outputs": [
    {
     "data": {
      "text/html": [
       "<div>\n",
       "<style scoped>\n",
       "    .dataframe tbody tr th:only-of-type {\n",
       "        vertical-align: middle;\n",
       "    }\n",
       "\n",
       "    .dataframe tbody tr th {\n",
       "        vertical-align: top;\n",
       "    }\n",
       "\n",
       "    .dataframe thead th {\n",
       "        text-align: right;\n",
       "    }\n",
       "</style>\n",
       "<table border=\"1\" class=\"dataframe\">\n",
       "  <thead>\n",
       "    <tr style=\"text-align: right;\">\n",
       "      <th></th>\n",
       "      <th>County Name</th>\n",
       "      <th>Total Reg.</th>\n",
       "      <th>Number voting turnout</th>\n",
       "      <th>Percent voting turnout</th>\n",
       "      <th>Dem Reg.</th>\n",
       "      <th>Number voting turnout Dem</th>\n",
       "      <th>Percent voter turnout Dem</th>\n",
       "      <th>Rep Reg.</th>\n",
       "      <th>Number voting turnout.1</th>\n",
       "      <th>Percent voter turnout Rep</th>\n",
       "      <th>Reg other</th>\n",
       "      <th>Number voting turnout.2</th>\n",
       "      <th>Percent voting turnout other</th>\n",
       "    </tr>\n",
       "  </thead>\n",
       "  <tbody>\n",
       "    <tr>\n",
       "      <th>2</th>\n",
       "      <td>ANDERSON</td>\n",
       "      <td>18879</td>\n",
       "      <td>13323</td>\n",
       "      <td>0.706</td>\n",
       "      <td>8650</td>\n",
       "      <td>6022</td>\n",
       "      <td>0.696</td>\n",
       "      <td>8848</td>\n",
       "      <td>6617</td>\n",
       "      <td>0.748</td>\n",
       "      <td>1381</td>\n",
       "      <td>684</td>\n",
       "      <td>0.495</td>\n",
       "    </tr>\n",
       "    <tr>\n",
       "      <th>107</th>\n",
       "      <td>SPENCER</td>\n",
       "      <td>16298</td>\n",
       "      <td>11485</td>\n",
       "      <td>0.705</td>\n",
       "      <td>6004</td>\n",
       "      <td>3994</td>\n",
       "      <td>0.665</td>\n",
       "      <td>8957</td>\n",
       "      <td>6725</td>\n",
       "      <td>0.751</td>\n",
       "      <td>1337</td>\n",
       "      <td>766</td>\n",
       "      <td>0.573</td>\n",
       "    </tr>\n",
       "    <tr>\n",
       "      <th>119</th>\n",
       "      <td>WOODFORD</td>\n",
       "      <td>0</td>\n",
       "      <td>0</td>\n",
       "      <td>0.687</td>\n",
       "      <td>11069</td>\n",
       "      <td>7816</td>\n",
       "      <td>0.706</td>\n",
       "      <td>9201</td>\n",
       "      <td>6407</td>\n",
       "      <td>0.696</td>\n",
       "      <td>1984</td>\n",
       "      <td>1057</td>\n",
       "      <td>0.533</td>\n",
       "    </tr>\n",
       "    <tr>\n",
       "      <th>92</th>\n",
       "      <td>OLDHAM</td>\n",
       "      <td>56248</td>\n",
       "      <td>38194</td>\n",
       "      <td>0.679</td>\n",
       "      <td>18861</td>\n",
       "      <td>12993</td>\n",
       "      <td>0.689</td>\n",
       "      <td>31035</td>\n",
       "      <td>21705</td>\n",
       "      <td>0.699</td>\n",
       "      <td>6352</td>\n",
       "      <td>3496</td>\n",
       "      <td>0.550</td>\n",
       "    </tr>\n",
       "    <tr>\n",
       "      <th>74</th>\n",
       "      <td>MCLEAN</td>\n",
       "      <td>7097</td>\n",
       "      <td>4805</td>\n",
       "      <td>0.677</td>\n",
       "      <td>3811</td>\n",
       "      <td>2484</td>\n",
       "      <td>0.652</td>\n",
       "      <td>2875</td>\n",
       "      <td>2120</td>\n",
       "      <td>0.737</td>\n",
       "      <td>411</td>\n",
       "      <td>201</td>\n",
       "      <td>0.489</td>\n",
       "    </tr>\n",
       "  </tbody>\n",
       "</table>\n",
       "</div>"
      ],
      "text/plain": [
       "    County Name  Total Reg.  Number voting turnout  Percent voting turnout  \\\n",
       "2      ANDERSON       18879                  13323                   0.706   \n",
       "107     SPENCER       16298                  11485                   0.705   \n",
       "119    WOODFORD           0                      0                   0.687   \n",
       "92       OLDHAM       56248                  38194                   0.679   \n",
       "74       MCLEAN        7097                   4805                   0.677   \n",
       "\n",
       "     Dem Reg.  Number voting turnout Dem  Percent voter turnout Dem  Rep Reg.  \\\n",
       "2        8650                       6022                      0.696      8848   \n",
       "107      6004                       3994                      0.665      8957   \n",
       "119     11069                       7816                      0.706      9201   \n",
       "92      18861                      12993                      0.689     31035   \n",
       "74       3811                       2484                      0.652      2875   \n",
       "\n",
       "     Number voting turnout.1  Percent voter turnout Rep  Reg other  \\\n",
       "2                       6617                      0.748       1381   \n",
       "107                     6725                      0.751       1337   \n",
       "119                     6407                      0.696       1984   \n",
       "92                     21705                      0.699       6352   \n",
       "74                      2120                      0.737        411   \n",
       "\n",
       "     Number voting turnout.2  Percent voting turnout other  \n",
       "2                        684                         0.495  \n",
       "107                      766                         0.573  \n",
       "119                     1057                         0.533  \n",
       "92                      3496                         0.550  \n",
       "74                       201                         0.489  "
      ]
     },
     "execution_count": 112,
     "metadata": {},
     "output_type": "execute_result"
    }
   ],
   "source": [
    "df.drop(['Cty Code'], axis=1, inplace=True)\n",
    "df"
   ]
  },
  {
   "cell_type": "code",
   "execution_count": 113,
   "metadata": {},
   "outputs": [
    {
     "data": {
      "image/png": "[encoded data removed]",
      "text/plain": [
       "<Figure size 1200x600 with 1 Axes>"
      ]
     },
     "metadata": {},
     "output_type": "display_data"
    }
   ],
   "source": [
    "# plt.style.use('seaborn-pastel')\n",
    "plt.figure(figsize= (12,6))\n",
    "plt.barh('County Name', 'Percent voting turnout', data = df,color='green')\n",
    "plt.ylabel('County Name')\n",
    "plt.xlabel('Percent voting turnout')\n",
    "plt.title('Voter Turnout 5')\n",
    "plt.tight_layout()\n",
    "plt.show()\n"
   ]
  },
  {
   "cell_type": "markdown",
   "metadata": {},
   "source": [
    "## Data Exploration:"
   ]
  },
  {
   "cell_type": "code",
   "execution_count": 114,
   "metadata": {},
   "outputs": [
    {
     "data": {
      "text/html": [
       "<div>\n",
       "<style scoped>\n",
       "    .dataframe tbody tr th:only-of-type {\n",
       "        vertical-align: middle;\n",
       "    }\n",
       "\n",
       "    .dataframe tbody tr th {\n",
       "        vertical-align: top;\n",
       "    }\n",
       "\n",
       "    .dataframe thead th {\n",
       "        text-align: right;\n",
       "    }\n",
       "</style>\n",
       "<table border=\"1\" class=\"dataframe\">\n",
       "  <thead>\n",
       "    <tr style=\"text-align: right;\">\n",
       "      <th></th>\n",
       "      <th>Cty Code</th>\n",
       "      <th>County Name</th>\n",
       "      <th>Total Reg.</th>\n",
       "      <th>Number voting turnout</th>\n",
       "      <th>Percent voting turnout</th>\n",
       "      <th>Dem Reg.</th>\n",
       "      <th>Number voting turnout Dem</th>\n",
       "      <th>Percent voter turnout Dem</th>\n",
       "      <th>Rep Reg.</th>\n",
       "      <th>Number voting turnout.1</th>\n",
       "      <th>Percent voter turnout Rep</th>\n",
       "      <th>Reg other</th>\n",
       "      <th>Number voting turnout.2</th>\n",
       "      <th>Percent voting turnout other</th>\n",
       "    </tr>\n",
       "  </thead>\n",
       "  <tbody>\n",
       "    <tr>\n",
       "      <th>23</th>\n",
       "      <td>24</td>\n",
       "      <td>CHRISTIAN</td>\n",
       "      <td>56018</td>\n",
       "      <td>23961</td>\n",
       "      <td>0.428</td>\n",
       "      <td>27899</td>\n",
       "      <td>12451</td>\n",
       "      <td>0.446</td>\n",
       "      <td>21853</td>\n",
       "      <td>9912</td>\n",
       "      <td>0.454</td>\n",
       "      <td>6266</td>\n",
       "      <td>1598</td>\n",
       "      <td>0.255</td>\n",
       "    </tr>\n",
       "    <tr>\n",
       "      <th>37</th>\n",
       "      <td>38</td>\n",
       "      <td>FULTON</td>\n",
       "      <td>5613</td>\n",
       "      <td>2439</td>\n",
       "      <td>0.435</td>\n",
       "      <td>3669</td>\n",
       "      <td>1606</td>\n",
       "      <td>0.438</td>\n",
       "      <td>1462</td>\n",
       "      <td>723</td>\n",
       "      <td>0.495</td>\n",
       "      <td>482</td>\n",
       "      <td>110</td>\n",
       "      <td>0.228</td>\n",
       "    </tr>\n",
       "    <tr>\n",
       "      <th>12</th>\n",
       "      <td>13</td>\n",
       "      <td>BREATHITT</td>\n",
       "      <td>11503</td>\n",
       "      <td>5323</td>\n",
       "      <td>0.463</td>\n",
       "      <td>9508</td>\n",
       "      <td>4434</td>\n",
       "      <td>0.466</td>\n",
       "      <td>1599</td>\n",
       "      <td>787</td>\n",
       "      <td>0.492</td>\n",
       "      <td>396</td>\n",
       "      <td>102</td>\n",
       "      <td>0.258</td>\n",
       "    </tr>\n",
       "    <tr>\n",
       "      <th>6</th>\n",
       "      <td>7</td>\n",
       "      <td>BELL</td>\n",
       "      <td>21276</td>\n",
       "      <td>10125</td>\n",
       "      <td>0.476</td>\n",
       "      <td>8030</td>\n",
       "      <td>3099</td>\n",
       "      <td>0.386</td>\n",
       "      <td>11998</td>\n",
       "      <td>6672</td>\n",
       "      <td>0.556</td>\n",
       "      <td>1248</td>\n",
       "      <td>354</td>\n",
       "      <td>0.284</td>\n",
       "    </tr>\n",
       "    <tr>\n",
       "      <th>79</th>\n",
       "      <td>80</td>\n",
       "      <td>MARTIN</td>\n",
       "      <td>8305</td>\n",
       "      <td>3996</td>\n",
       "      <td>0.481</td>\n",
       "      <td>1854</td>\n",
       "      <td>646</td>\n",
       "      <td>0.348</td>\n",
       "      <td>6206</td>\n",
       "      <td>3281</td>\n",
       "      <td>0.529</td>\n",
       "      <td>245</td>\n",
       "      <td>69</td>\n",
       "      <td>0.282</td>\n",
       "    </tr>\n",
       "  </tbody>\n",
       "</table>\n",
       "</div>"
      ],
      "text/plain": [
       "    Cty Code County Name  Total Reg.  Number voting turnout  \\\n",
       "23        24   CHRISTIAN       56018                  23961   \n",
       "37        38      FULTON        5613                   2439   \n",
       "12        13   BREATHITT       11503                   5323   \n",
       "6          7        BELL       21276                  10125   \n",
       "79        80      MARTIN        8305                   3996   \n",
       "\n",
       "    Percent voting turnout  Dem Reg.  Number voting turnout Dem  \\\n",
       "23                   0.428     27899                      12451   \n",
       "37                   0.435      3669                       1606   \n",
       "12                   0.463      9508                       4434   \n",
       "6                    0.476      8030                       3099   \n",
       "79                   0.481      1854                        646   \n",
       "\n",
       "    Percent voter turnout Dem  Rep Reg.  Number voting turnout.1  \\\n",
       "23                      0.446     21853                     9912   \n",
       "37                      0.438      1462                      723   \n",
       "12                      0.466      1599                      787   \n",
       "6                       0.386     11998                     6672   \n",
       "79                      0.348      6206                     3281   \n",
       "\n",
       "    Percent voter turnout Rep  Reg other  Number voting turnout.2  \\\n",
       "23                      0.454       6266                     1598   \n",
       "37                      0.495        482                      110   \n",
       "12                      0.492        396                      102   \n",
       "6                       0.556       1248                      354   \n",
       "79                      0.529        245                       69   \n",
       "\n",
       "    Percent voting turnout other  \n",
       "23                         0.255  \n",
       "37                         0.228  \n",
       "12                         0.258  \n",
       "6                          0.284  \n",
       "79                         0.282  "
      ]
     },
     "execution_count": 114,
     "metadata": {},
     "output_type": "execute_result"
    }
   ],
   "source": [
    "sm=turnout_2020.nsmallest(n=5, columns=['Percent voting turnout'])\n",
    "sm"
   ]
  },
  {
   "cell_type": "code",
   "execution_count": 115,
   "metadata": {},
   "outputs": [
    {
     "name": "stderr",
     "output_type": "stream",
     "text": [
      "C:\\Users\\ivett\\AppData\\Local\\Temp\\ipykernel_24240\\884621377.py:1: MatplotlibDeprecationWarning:\n",
      "\n",
      "The seaborn styles shipped by Matplotlib are deprecated since 3.6, as they no longer correspond to the styles shipped by seaborn. However, they will remain available as 'seaborn-v0_8-<style>'. Alternatively, directly use the seaborn API instead.\n",
      "\n"
     ]
    },
    {
     "data": {
      "image/png": "[encoded data removed]",
      "text/plain": [
       "<Figure size 1200x600 with 1 Axes>"
      ]
     },
     "metadata": {},
     "output_type": "display_data"
    }
   ],
   "source": [
    "plt.style.use('seaborn-pastel')\n",
    "plt.figure(figsize= (12,6))\n",
    "plt.barh('County Name', 'Percent voting turnout', data = sm)\n",
    "plt.ylabel('County Name')\n",
    "plt.xlabel('Percent voting turnout')\n",
    "plt.title('Lowest Voter Turnout 5')\n",
    "plt.tight_layout()\n",
    "plt.show()\n"
   ]
  },
  {
   "cell_type": "code",
   "execution_count": 116,
   "metadata": {},
   "outputs": [
    {
     "data": {
      "text/html": [
       "<div>\n",
       "<style scoped>\n",
       "    .dataframe tbody tr th:only-of-type {\n",
       "        vertical-align: middle;\n",
       "    }\n",
       "\n",
       "    .dataframe tbody tr th {\n",
       "        vertical-align: top;\n",
       "    }\n",
       "\n",
       "    .dataframe thead th {\n",
       "        text-align: right;\n",
       "    }\n",
       "</style>\n",
       "<table border=\"1\" class=\"dataframe\">\n",
       "  <thead>\n",
       "    <tr style=\"text-align: right;\">\n",
       "      <th></th>\n",
       "      <th>Cty Code</th>\n",
       "      <th>County Name</th>\n",
       "      <th>Total Reg.</th>\n",
       "      <th>Number voting turnout</th>\n",
       "      <th>Percent voting turnout</th>\n",
       "      <th>Dem Reg.</th>\n",
       "      <th>Number voting turnout Dem</th>\n",
       "      <th>Percent voter turnout Dem</th>\n",
       "      <th>Rep Reg.</th>\n",
       "      <th>Number voting turnout.1</th>\n",
       "      <th>Percent voter turnout Rep</th>\n",
       "      <th>Reg other</th>\n",
       "      <th>Number voting turnout.2</th>\n",
       "      <th>Percent voting turnout other</th>\n",
       "    </tr>\n",
       "  </thead>\n",
       "  <tbody>\n",
       "    <tr>\n",
       "      <th>2</th>\n",
       "      <td>3</td>\n",
       "      <td>ANDERSON</td>\n",
       "      <td>18879</td>\n",
       "      <td>13323</td>\n",
       "      <td>0.706</td>\n",
       "      <td>8650</td>\n",
       "      <td>6022</td>\n",
       "      <td>0.696</td>\n",
       "      <td>8848</td>\n",
       "      <td>6617</td>\n",
       "      <td>0.748</td>\n",
       "      <td>1381</td>\n",
       "      <td>684</td>\n",
       "      <td>0.495</td>\n",
       "    </tr>\n",
       "  </tbody>\n",
       "</table>\n",
       "</div>"
      ],
      "text/plain": [
       "   Cty Code County Name  Total Reg.  Number voting turnout  \\\n",
       "2         3    ANDERSON       18879                  13323   \n",
       "\n",
       "   Percent voting turnout  Dem Reg.  Number voting turnout Dem  \\\n",
       "2                   0.706      8650                       6022   \n",
       "\n",
       "   Percent voter turnout Dem  Rep Reg.  Number voting turnout.1  \\\n",
       "2                      0.696      8848                     6617   \n",
       "\n",
       "   Percent voter turnout Rep  Reg other  Number voting turnout.2  \\\n",
       "2                      0.748       1381                      684   \n",
       "\n",
       "   Percent voting turnout other  \n",
       "2                         0.495  "
      ]
     },
     "execution_count": 116,
     "metadata": {},
     "output_type": "execute_result"
    }
   ],
   "source": [
    "top1=turnout_2020.nlargest(n=1, columns=['Percent voting turnout'])\n",
    "top1"
   ]
  },
  {
   "cell_type": "code",
   "execution_count": 117,
   "metadata": {},
   "outputs": [
    {
     "name": "stdout",
     "output_type": "stream",
     "text": [
      "11-Sault-au-Récollet\n",
      "{'district': '11-Sault-au-Récollet'}\n"
     ]
    }
   ],
   "source": [
    "df = px.data.election()\n",
    "geojson = px.data.election_geojson()\n",
    "\n",
    "print(df[\"district\"][2])\n",
    "print(geojson[\"features\"][0][\"properties\"])"
   ]
  },
  {
   "cell_type": "code",
   "execution_count": 118,
   "metadata": {},
   "outputs": [],
   "source": [
    "turnout_2008 = pd.read_csv('KY_Turnout_2008.csv')"
   ]
  },
  {
   "cell_type": "code",
   "execution_count": 119,
   "metadata": {},
   "outputs": [
    {
     "data": {
      "text/html": [
       "<div>\n",
       "<style scoped>\n",
       "    .dataframe tbody tr th:only-of-type {\n",
       "        vertical-align: middle;\n",
       "    }\n",
       "\n",
       "    .dataframe tbody tr th {\n",
       "        vertical-align: top;\n",
       "    }\n",
       "\n",
       "    .dataframe thead th {\n",
       "        text-align: right;\n",
       "    }\n",
       "</style>\n",
       "<table border=\"1\" class=\"dataframe\">\n",
       "  <thead>\n",
       "    <tr style=\"text-align: right;\">\n",
       "      <th></th>\n",
       "      <th>C_CODE</th>\n",
       "      <th>COUNTY</th>\n",
       "      <th>TOTAL_REG.</th>\n",
       "      <th>NUMBER_VOTING</th>\n",
       "      <th>PERCENT_TURNOUT</th>\n",
       "      <th>DEM_REG.</th>\n",
       "      <th>NUMBER_VOTING.1</th>\n",
       "      <th>PERCENT_TURNOUT.1</th>\n",
       "      <th>REP_REG.</th>\n",
       "      <th>NUMBER_VOTING.2</th>\n",
       "      <th>PERCENT_TURNOUT.2</th>\n",
       "      <th>OTHER_REG.</th>\n",
       "      <th>NUMBER_VOTING.3</th>\n",
       "      <th>PERCENT_TURNOUT.3</th>\n",
       "      <th>Unnamed: 14</th>\n",
       "    </tr>\n",
       "  </thead>\n",
       "  <tbody>\n",
       "    <tr>\n",
       "      <th>0</th>\n",
       "      <td>1</td>\n",
       "      <td>ADAIR</td>\n",
       "      <td>12,584</td>\n",
       "      <td>7,548</td>\n",
       "      <td>59.9</td>\n",
       "      <td>3,862</td>\n",
       "      <td>2,310</td>\n",
       "      <td>59.8</td>\n",
       "      <td>8,208</td>\n",
       "      <td>5,015</td>\n",
       "      <td>61.0</td>\n",
       "      <td>514</td>\n",
       "      <td>223</td>\n",
       "      <td>43.3</td>\n",
       "      <td>NaN</td>\n",
       "    </tr>\n",
       "    <tr>\n",
       "      <th>1</th>\n",
       "      <td>2</td>\n",
       "      <td>ALLEN</td>\n",
       "      <td>12,439</td>\n",
       "      <td>7,502</td>\n",
       "      <td>60.3</td>\n",
       "      <td>4,621</td>\n",
       "      <td>2,769</td>\n",
       "      <td>59.9</td>\n",
       "      <td>7,153</td>\n",
       "      <td>4,465</td>\n",
       "      <td>62.4</td>\n",
       "      <td>665</td>\n",
       "      <td>268</td>\n",
       "      <td>40.3</td>\n",
       "      <td>NaN</td>\n",
       "    </tr>\n",
       "    <tr>\n",
       "      <th>2</th>\n",
       "      <td>3</td>\n",
       "      <td>ANDERSON</td>\n",
       "      <td>15,507</td>\n",
       "      <td>10,785</td>\n",
       "      <td>69.5</td>\n",
       "      <td>10,201</td>\n",
       "      <td>7,249</td>\n",
       "      <td>71.0</td>\n",
       "      <td>4,541</td>\n",
       "      <td>3,168</td>\n",
       "      <td>69.7</td>\n",
       "      <td>765</td>\n",
       "      <td>368</td>\n",
       "      <td>48.1</td>\n",
       "      <td>NaN</td>\n",
       "    </tr>\n",
       "    <tr>\n",
       "      <th>3</th>\n",
       "      <td>4</td>\n",
       "      <td>BALLARD</td>\n",
       "      <td>5,999</td>\n",
       "      <td>4,101</td>\n",
       "      <td>68.3</td>\n",
       "      <td>4,982</td>\n",
       "      <td>3,494</td>\n",
       "      <td>70.1</td>\n",
       "      <td>840</td>\n",
       "      <td>535</td>\n",
       "      <td>63.6</td>\n",
       "      <td>177</td>\n",
       "      <td>72</td>\n",
       "      <td>40.6</td>\n",
       "      <td>NaN</td>\n",
       "    </tr>\n",
       "    <tr>\n",
       "      <th>4</th>\n",
       "      <td>5</td>\n",
       "      <td>BARREN</td>\n",
       "      <td>27,232</td>\n",
       "      <td>17,342</td>\n",
       "      <td>63.6</td>\n",
       "      <td>16,543</td>\n",
       "      <td>10,519</td>\n",
       "      <td>63.5</td>\n",
       "      <td>9,210</td>\n",
       "      <td>6,185</td>\n",
       "      <td>67.1</td>\n",
       "      <td>1,479</td>\n",
       "      <td>638</td>\n",
       "      <td>43.1</td>\n",
       "      <td>NaN</td>\n",
       "    </tr>\n",
       "    <tr>\n",
       "      <th>...</th>\n",
       "      <td>...</td>\n",
       "      <td>...</td>\n",
       "      <td>...</td>\n",
       "      <td>...</td>\n",
       "      <td>...</td>\n",
       "      <td>...</td>\n",
       "      <td>...</td>\n",
       "      <td>...</td>\n",
       "      <td>...</td>\n",
       "      <td>...</td>\n",
       "      <td>...</td>\n",
       "      <td>...</td>\n",
       "      <td>...</td>\n",
       "      <td>...</td>\n",
       "      <td>...</td>\n",
       "    </tr>\n",
       "    <tr>\n",
       "      <th>115</th>\n",
       "      <td>116</td>\n",
       "      <td>WAYNE</td>\n",
       "      <td>13,984</td>\n",
       "      <td>7,447</td>\n",
       "      <td>53.2</td>\n",
       "      <td>5,460</td>\n",
       "      <td>2,873</td>\n",
       "      <td>52.6</td>\n",
       "      <td>8,064</td>\n",
       "      <td>4,407</td>\n",
       "      <td>54.6</td>\n",
       "      <td>460</td>\n",
       "      <td>167</td>\n",
       "      <td>36.3</td>\n",
       "      <td>NaN</td>\n",
       "    </tr>\n",
       "    <tr>\n",
       "      <th>116</th>\n",
       "      <td>117</td>\n",
       "      <td>WEBSTER</td>\n",
       "      <td>9,241</td>\n",
       "      <td>5,568</td>\n",
       "      <td>60.2</td>\n",
       "      <td>7,704</td>\n",
       "      <td>4,800</td>\n",
       "      <td>62.3</td>\n",
       "      <td>1,250</td>\n",
       "      <td>673</td>\n",
       "      <td>53.8</td>\n",
       "      <td>287</td>\n",
       "      <td>95</td>\n",
       "      <td>33.1</td>\n",
       "      <td>NaN</td>\n",
       "    </tr>\n",
       "    <tr>\n",
       "      <th>117</th>\n",
       "      <td>118</td>\n",
       "      <td>WHITLEY</td>\n",
       "      <td>26,132</td>\n",
       "      <td>14,133</td>\n",
       "      <td>54.0</td>\n",
       "      <td>6,912</td>\n",
       "      <td>3,430</td>\n",
       "      <td>49.6</td>\n",
       "      <td>18,112</td>\n",
       "      <td>10,321</td>\n",
       "      <td>56.9</td>\n",
       "      <td>1,108</td>\n",
       "      <td>382</td>\n",
       "      <td>34.4</td>\n",
       "      <td>NaN</td>\n",
       "    </tr>\n",
       "    <tr>\n",
       "      <th>118</th>\n",
       "      <td>119</td>\n",
       "      <td>WOLFE</td>\n",
       "      <td>5,910</td>\n",
       "      <td>3,113</td>\n",
       "      <td>52.6</td>\n",
       "      <td>5,278</td>\n",
       "      <td>2,823</td>\n",
       "      <td>53.4</td>\n",
       "      <td>492</td>\n",
       "      <td>263</td>\n",
       "      <td>53.4</td>\n",
       "      <td>140</td>\n",
       "      <td>27</td>\n",
       "      <td>19.2</td>\n",
       "      <td>NaN</td>\n",
       "    </tr>\n",
       "    <tr>\n",
       "      <th>119</th>\n",
       "      <td>120</td>\n",
       "      <td>WOODFORD</td>\n",
       "      <td>17,666</td>\n",
       "      <td>12,259</td>\n",
       "      <td>69.3</td>\n",
       "      <td>10,708</td>\n",
       "      <td>7,683</td>\n",
       "      <td>71.7</td>\n",
       "      <td>5,715</td>\n",
       "      <td>3,919</td>\n",
       "      <td>68.5</td>\n",
       "      <td>1,243</td>\n",
       "      <td>657</td>\n",
       "      <td>52.8</td>\n",
       "      <td>NaN</td>\n",
       "    </tr>\n",
       "  </tbody>\n",
       "</table>\n",
       "<p>120 rows × 15 columns</p>\n",
       "</div>"
      ],
      "text/plain": [
       "     C_CODE    COUNTY TOTAL_REG. NUMBER_VOTING  PERCENT_TURNOUT DEM_REG.  \\\n",
       "0         1     ADAIR     12,584         7,548             59.9    3,862   \n",
       "1         2     ALLEN     12,439         7,502             60.3    4,621   \n",
       "2         3  ANDERSON     15,507        10,785             69.5   10,201   \n",
       "3         4   BALLARD      5,999         4,101             68.3    4,982   \n",
       "4         5    BARREN     27,232        17,342             63.6   16,543   \n",
       "..      ...       ...        ...           ...              ...      ...   \n",
       "115     116     WAYNE     13,984         7,447             53.2    5,460   \n",
       "116     117   WEBSTER      9,241         5,568             60.2    7,704   \n",
       "117     118   WHITLEY     26,132        14,133             54.0    6,912   \n",
       "118     119     WOLFE      5,910         3,113             52.6    5,278   \n",
       "119     120  WOODFORD     17,666        12,259             69.3   10,708   \n",
       "\n",
       "    NUMBER_VOTING.1  PERCENT_TURNOUT.1 REP_REG. NUMBER_VOTING.2  \\\n",
       "0             2,310               59.8    8,208           5,015   \n",
       "1             2,769               59.9    7,153           4,465   \n",
       "2             7,249               71.0    4,541           3,168   \n",
       "3             3,494               70.1      840             535   \n",
       "4            10,519               63.5    9,210           6,185   \n",
       "..              ...                ...      ...             ...   \n",
       "115           2,873               52.6    8,064           4,407   \n",
       "116           4,800               62.3    1,250             673   \n",
       "117           3,430               49.6   18,112          10,321   \n",
       "118           2,823               53.4      492             263   \n",
       "119           7,683               71.7    5,715           3,919   \n",
       "\n",
       "     PERCENT_TURNOUT.2 OTHER_REG. NUMBER_VOTING.3  PERCENT_TURNOUT.3  \\\n",
       "0                 61.0       514              223               43.3   \n",
       "1                 62.4       665              268               40.3   \n",
       "2                 69.7       765              368               48.1   \n",
       "3                 63.6       177               72               40.6   \n",
       "4                 67.1     1,479              638               43.1   \n",
       "..                 ...        ...             ...                ...   \n",
       "115               54.6       460              167               36.3   \n",
       "116               53.8       287               95               33.1   \n",
       "117               56.9     1,108              382               34.4   \n",
       "118               53.4       140               27               19.2   \n",
       "119               68.5     1,243              657               52.8   \n",
       "\n",
       "     Unnamed: 14  \n",
       "0            NaN  \n",
       "1            NaN  \n",
       "2            NaN  \n",
       "3            NaN  \n",
       "4            NaN  \n",
       "..           ...  \n",
       "115          NaN  \n",
       "116          NaN  \n",
       "117          NaN  \n",
       "118          NaN  \n",
       "119          NaN  \n",
       "\n",
       "[120 rows x 15 columns]"
      ]
     },
     "execution_count": 119,
     "metadata": {},
     "output_type": "execute_result"
    }
   ],
   "source": [
    "turnout_2008"
   ]
  },
  {
   "cell_type": "code",
   "execution_count": 120,
   "metadata": {},
   "outputs": [],
   "source": [
    "turnout_2012 = pd.read_excel('KY_Turnout_12.xlsx','KY_VT_2012')"
   ]
  },
  {
   "cell_type": "code",
   "execution_count": 121,
   "metadata": {},
   "outputs": [
    {
     "data": {
      "text/html": [
       "<div>\n",
       "<style scoped>\n",
       "    .dataframe tbody tr th:only-of-type {\n",
       "        vertical-align: middle;\n",
       "    }\n",
       "\n",
       "    .dataframe tbody tr th {\n",
       "        vertical-align: top;\n",
       "    }\n",
       "\n",
       "    .dataframe thead th {\n",
       "        text-align: right;\n",
       "    }\n",
       "</style>\n",
       "<table border=\"1\" class=\"dataframe\">\n",
       "  <thead>\n",
       "    <tr style=\"text-align: right;\">\n",
       "      <th></th>\n",
       "      <th>C_CODE</th>\n",
       "      <th>COUNTY</th>\n",
       "      <th>TOTAL_REG.</th>\n",
       "      <th>NUMBER_VOTING</th>\n",
       "      <th>PERCENT_TURNOUT</th>\n",
       "      <th>DEM_REG.</th>\n",
       "      <th>NUMBER_VOTING.1</th>\n",
       "      <th>PERCENT_TURNOUT.1</th>\n",
       "      <th>REP_REG.</th>\n",
       "      <th>NUMBER_VOTING.2</th>\n",
       "      <th>PERCENT_TURNOUT.2</th>\n",
       "      <th>OTHER_REG.</th>\n",
       "      <th>NUMBER_VOTING.3</th>\n",
       "      <th>PERCENT_TURNOUT.3</th>\n",
       "    </tr>\n",
       "  </thead>\n",
       "  <tbody>\n",
       "    <tr>\n",
       "      <th>0</th>\n",
       "      <td>1</td>\n",
       "      <td>ADAIR</td>\n",
       "      <td>12762</td>\n",
       "      <td>7565</td>\n",
       "      <td>59.2</td>\n",
       "      <td>3731</td>\n",
       "      <td>2143</td>\n",
       "      <td>57.4</td>\n",
       "      <td>8398</td>\n",
       "      <td>5164</td>\n",
       "      <td>61.4</td>\n",
       "      <td>633</td>\n",
       "      <td>258</td>\n",
       "      <td>40.7</td>\n",
       "    </tr>\n",
       "    <tr>\n",
       "      <th>1</th>\n",
       "      <td>2</td>\n",
       "      <td>ALLEN</td>\n",
       "      <td>13232</td>\n",
       "      <td>7156</td>\n",
       "      <td>54.0</td>\n",
       "      <td>4698</td>\n",
       "      <td>2340</td>\n",
       "      <td>49.8</td>\n",
       "      <td>7725</td>\n",
       "      <td>4526</td>\n",
       "      <td>58.5</td>\n",
       "      <td>809</td>\n",
       "      <td>290</td>\n",
       "      <td>35.8</td>\n",
       "    </tr>\n",
       "    <tr>\n",
       "      <th>2</th>\n",
       "      <td>3</td>\n",
       "      <td>ANDERSON</td>\n",
       "      <td>16436</td>\n",
       "      <td>10420</td>\n",
       "      <td>63.3</td>\n",
       "      <td>10251</td>\n",
       "      <td>6623</td>\n",
       "      <td>64.6</td>\n",
       "      <td>5200</td>\n",
       "      <td>3375</td>\n",
       "      <td>64.9</td>\n",
       "      <td>985</td>\n",
       "      <td>422</td>\n",
       "      <td>42.8</td>\n",
       "    </tr>\n",
       "    <tr>\n",
       "      <th>3</th>\n",
       "      <td>4</td>\n",
       "      <td>BALLARD</td>\n",
       "      <td>6103</td>\n",
       "      <td>3911</td>\n",
       "      <td>64.0</td>\n",
       "      <td>4738</td>\n",
       "      <td>3105</td>\n",
       "      <td>65.5</td>\n",
       "      <td>1133</td>\n",
       "      <td>719</td>\n",
       "      <td>63.4</td>\n",
       "      <td>232</td>\n",
       "      <td>87</td>\n",
       "      <td>37.5</td>\n",
       "    </tr>\n",
       "    <tr>\n",
       "      <th>4</th>\n",
       "      <td>5</td>\n",
       "      <td>BARREN</td>\n",
       "      <td>28405</td>\n",
       "      <td>16836</td>\n",
       "      <td>59.2</td>\n",
       "      <td>16641</td>\n",
       "      <td>9775</td>\n",
       "      <td>58.7</td>\n",
       "      <td>10184</td>\n",
       "      <td>6413</td>\n",
       "      <td>62.9</td>\n",
       "      <td>1580</td>\n",
       "      <td>648</td>\n",
       "      <td>41.0</td>\n",
       "    </tr>\n",
       "    <tr>\n",
       "      <th>...</th>\n",
       "      <td>...</td>\n",
       "      <td>...</td>\n",
       "      <td>...</td>\n",
       "      <td>...</td>\n",
       "      <td>...</td>\n",
       "      <td>...</td>\n",
       "      <td>...</td>\n",
       "      <td>...</td>\n",
       "      <td>...</td>\n",
       "      <td>...</td>\n",
       "      <td>...</td>\n",
       "      <td>...</td>\n",
       "      <td>...</td>\n",
       "      <td>...</td>\n",
       "    </tr>\n",
       "    <tr>\n",
       "      <th>115</th>\n",
       "      <td>116</td>\n",
       "      <td>WAYNE</td>\n",
       "      <td>14040</td>\n",
       "      <td>7315</td>\n",
       "      <td>52.1</td>\n",
       "      <td>5267</td>\n",
       "      <td>2566</td>\n",
       "      <td>48.7</td>\n",
       "      <td>8230</td>\n",
       "      <td>4558</td>\n",
       "      <td>55.3</td>\n",
       "      <td>543</td>\n",
       "      <td>191</td>\n",
       "      <td>35.1</td>\n",
       "    </tr>\n",
       "    <tr>\n",
       "      <th>116</th>\n",
       "      <td>117</td>\n",
       "      <td>WEBSTER</td>\n",
       "      <td>9301</td>\n",
       "      <td>5475</td>\n",
       "      <td>58.8</td>\n",
       "      <td>7402</td>\n",
       "      <td>4517</td>\n",
       "      <td>61.0</td>\n",
       "      <td>1554</td>\n",
       "      <td>835</td>\n",
       "      <td>53.7</td>\n",
       "      <td>345</td>\n",
       "      <td>123</td>\n",
       "      <td>35.6</td>\n",
       "    </tr>\n",
       "    <tr>\n",
       "      <th>117</th>\n",
       "      <td>118</td>\n",
       "      <td>WHITLEY</td>\n",
       "      <td>26178</td>\n",
       "      <td>13124</td>\n",
       "      <td>50.1</td>\n",
       "      <td>6628</td>\n",
       "      <td>2646</td>\n",
       "      <td>39.9</td>\n",
       "      <td>18294</td>\n",
       "      <td>10104</td>\n",
       "      <td>55.2</td>\n",
       "      <td>1256</td>\n",
       "      <td>374</td>\n",
       "      <td>29.7</td>\n",
       "    </tr>\n",
       "    <tr>\n",
       "      <th>118</th>\n",
       "      <td>119</td>\n",
       "      <td>WOLFE</td>\n",
       "      <td>5575</td>\n",
       "      <td>2616</td>\n",
       "      <td>46.9</td>\n",
       "      <td>4974</td>\n",
       "      <td>2347</td>\n",
       "      <td>47.1</td>\n",
       "      <td>462</td>\n",
       "      <td>240</td>\n",
       "      <td>51.9</td>\n",
       "      <td>139</td>\n",
       "      <td>29</td>\n",
       "      <td>20.8</td>\n",
       "    </tr>\n",
       "    <tr>\n",
       "      <th>119</th>\n",
       "      <td>120</td>\n",
       "      <td>WOODFORD</td>\n",
       "      <td>18347</td>\n",
       "      <td>12323</td>\n",
       "      <td>67.1</td>\n",
       "      <td>10669</td>\n",
       "      <td>7312</td>\n",
       "      <td>68.5</td>\n",
       "      <td>6321</td>\n",
       "      <td>4320</td>\n",
       "      <td>68.3</td>\n",
       "      <td>1357</td>\n",
       "      <td>691</td>\n",
       "      <td>50.9</td>\n",
       "    </tr>\n",
       "  </tbody>\n",
       "</table>\n",
       "<p>120 rows × 14 columns</p>\n",
       "</div>"
      ],
      "text/plain": [
       "     C_CODE    COUNTY  TOTAL_REG.  NUMBER_VOTING  PERCENT_TURNOUT  DEM_REG.  \\\n",
       "0         1     ADAIR       12762           7565             59.2      3731   \n",
       "1         2     ALLEN       13232           7156             54.0      4698   \n",
       "2         3  ANDERSON       16436          10420             63.3     10251   \n",
       "3         4   BALLARD        6103           3911             64.0      4738   \n",
       "4         5    BARREN       28405          16836             59.2     16641   \n",
       "..      ...       ...         ...            ...              ...       ...   \n",
       "115     116     WAYNE       14040           7315             52.1      5267   \n",
       "116     117   WEBSTER        9301           5475             58.8      7402   \n",
       "117     118   WHITLEY       26178          13124             50.1      6628   \n",
       "118     119     WOLFE        5575           2616             46.9      4974   \n",
       "119     120  WOODFORD       18347          12323             67.1     10669   \n",
       "\n",
       "     NUMBER_VOTING.1  PERCENT_TURNOUT.1  REP_REG.  NUMBER_VOTING.2  \\\n",
       "0               2143               57.4      8398             5164   \n",
       "1               2340               49.8      7725             4526   \n",
       "2               6623               64.6      5200             3375   \n",
       "3               3105               65.5      1133              719   \n",
       "4               9775               58.7     10184             6413   \n",
       "..               ...                ...       ...              ...   \n",
       "115             2566               48.7      8230             4558   \n",
       "116             4517               61.0      1554              835   \n",
       "117             2646               39.9     18294            10104   \n",
       "118             2347               47.1       462              240   \n",
       "119             7312               68.5      6321             4320   \n",
       "\n",
       "     PERCENT_TURNOUT.2  OTHER_REG.  NUMBER_VOTING.3  PERCENT_TURNOUT.3  \n",
       "0                 61.4         633              258               40.7  \n",
       "1                 58.5         809              290               35.8  \n",
       "2                 64.9         985              422               42.8  \n",
       "3                 63.4         232               87               37.5  \n",
       "4                 62.9        1580              648               41.0  \n",
       "..                 ...         ...              ...                ...  \n",
       "115               55.3         543              191               35.1  \n",
       "116               53.7         345              123               35.6  \n",
       "117               55.2        1256              374               29.7  \n",
       "118               51.9         139               29               20.8  \n",
       "119               68.3        1357              691               50.9  \n",
       "\n",
       "[120 rows x 14 columns]"
      ]
     },
     "execution_count": 121,
     "metadata": {},
     "output_type": "execute_result"
    }
   ],
   "source": [
    "turnout_2012"
   ]
  },
  {
   "cell_type": "code",
   "execution_count": null,
   "metadata": {},
   "outputs": [
    {
     "data": {
      "text/plain": [
       "array([  0,   1,   2,   3,   4,   5,   6,   7,   8,   9,  10,  11,  12,\n",
       "        13,  14,  15,  16,  17,  18,  19,  20,  21,  22,  23,  24,  25,\n",
       "        26,  27,  28,  29,  30,  31,  32,  33,  34,  35,  36,  37,  38,\n",
       "        39,  40,  41,  42,  43,  44,  45,  46,  47,  48,  49,  50,  51,\n",
       "        52,  53,  54,  55,  56,  57,  58,  59,  60,  61,  62,  63,  64,\n",
       "        65,  66,  67,  68,  69,  70,  71,  72,  73,  74,  75,  76,  77,\n",
       "        78,  79,  80,  81,  82,  83,  84,  85,  86,  87,  88,  89,  90,\n",
       "        91,  92,  93,  94,  95,  96,  97,  98,  99, 100, 101, 102, 103,\n",
       "       104, 105, 106, 107, 108, 109, 110, 111, 112, 113, 114, 115, 116,\n",
       "       117, 118, 119], dtype=int64)"
      ]
     },
     "execution_count": 35,
     "metadata": {},
     "output_type": "execute_result"
    }
   ],
   "source": [
    "turnout_2008.index.values"
   ]
  },
  {
   "cell_type": "code",
   "execution_count": null,
   "metadata": {},
   "outputs": [
    {
     "data": {
      "text/plain": [
       "array([  0,   1,   2,   3,   4,   5,   6,   7,   8,   9,  10,  11,  12,\n",
       "        13,  14,  15,  16,  17,  18,  19,  20,  21,  22,  23,  24,  25,\n",
       "        26,  27,  28,  29,  30,  31,  32,  33,  34,  35,  36,  37,  38,\n",
       "        39,  40,  41,  42,  43,  44,  45,  46,  47,  48,  49,  50,  51,\n",
       "        52,  53,  54,  55,  56,  57,  58,  59,  60,  61,  62,  63,  64,\n",
       "        65,  66,  67,  68,  69,  70,  71,  72,  73,  74,  75,  76,  77,\n",
       "        78,  79,  80,  81,  82,  83,  84,  85,  86,  87,  88,  89,  90,\n",
       "        91,  92,  93,  94,  95,  96,  97,  98,  99, 100, 101, 102, 103,\n",
       "       104, 105, 106, 107, 108, 109, 110, 111, 112, 113, 114, 115, 116,\n",
       "       117, 118, 119], dtype=int64)"
      ]
     },
     "execution_count": 36,
     "metadata": {},
     "output_type": "execute_result"
    }
   ],
   "source": [
    "turnout_2012.index.values"
   ]
  },
  {
   "cell_type": "markdown",
   "metadata": {},
   "source": [
    "#COMPARE 2008 & 2012\n"
   ]
  },
  {
   "cell_type": "code",
   "execution_count": null,
   "metadata": {},
   "outputs": [
    {
     "data": {
      "text/html": [
       "<div>\n",
       "<style scoped>\n",
       "    .dataframe tbody tr th:only-of-type {\n",
       "        vertical-align: middle;\n",
       "    }\n",
       "\n",
       "    .dataframe tbody tr th {\n",
       "        vertical-align: top;\n",
       "    }\n",
       "\n",
       "    .dataframe thead th {\n",
       "        text-align: right;\n",
       "    }\n",
       "</style>\n",
       "<table border=\"1\" class=\"dataframe\">\n",
       "  <thead>\n",
       "    <tr style=\"text-align: right;\">\n",
       "      <th></th>\n",
       "      <th>self</th>\n",
       "      <th>other</th>\n",
       "    </tr>\n",
       "  </thead>\n",
       "  <tbody>\n",
       "    <tr>\n",
       "      <th>0</th>\n",
       "      <td>59.9</td>\n",
       "      <td>59.2</td>\n",
       "    </tr>\n",
       "    <tr>\n",
       "      <th>1</th>\n",
       "      <td>60.3</td>\n",
       "      <td>54.0</td>\n",
       "    </tr>\n",
       "    <tr>\n",
       "      <th>2</th>\n",
       "      <td>69.5</td>\n",
       "      <td>63.3</td>\n",
       "    </tr>\n",
       "    <tr>\n",
       "      <th>3</th>\n",
       "      <td>68.3</td>\n",
       "      <td>64.0</td>\n",
       "    </tr>\n",
       "    <tr>\n",
       "      <th>4</th>\n",
       "      <td>63.6</td>\n",
       "      <td>59.2</td>\n",
       "    </tr>\n",
       "    <tr>\n",
       "      <th>...</th>\n",
       "      <td>...</td>\n",
       "      <td>...</td>\n",
       "    </tr>\n",
       "    <tr>\n",
       "      <th>115</th>\n",
       "      <td>53.2</td>\n",
       "      <td>52.1</td>\n",
       "    </tr>\n",
       "    <tr>\n",
       "      <th>116</th>\n",
       "      <td>60.2</td>\n",
       "      <td>58.8</td>\n",
       "    </tr>\n",
       "    <tr>\n",
       "      <th>117</th>\n",
       "      <td>54.0</td>\n",
       "      <td>50.1</td>\n",
       "    </tr>\n",
       "    <tr>\n",
       "      <th>118</th>\n",
       "      <td>52.6</td>\n",
       "      <td>46.9</td>\n",
       "    </tr>\n",
       "    <tr>\n",
       "      <th>119</th>\n",
       "      <td>69.3</td>\n",
       "      <td>67.1</td>\n",
       "    </tr>\n",
       "  </tbody>\n",
       "</table>\n",
       "<p>119 rows × 2 columns</p>\n",
       "</div>"
      ],
      "text/plain": [
       "     self  other\n",
       "0    59.9   59.2\n",
       "1    60.3   54.0\n",
       "2    69.5   63.3\n",
       "3    68.3   64.0\n",
       "4    63.6   59.2\n",
       "..    ...    ...\n",
       "115  53.2   52.1\n",
       "116  60.2   58.8\n",
       "117  54.0   50.1\n",
       "118  52.6   46.9\n",
       "119  69.3   67.1\n",
       "\n",
       "[119 rows x 2 columns]"
      ]
     },
     "execution_count": 37,
     "metadata": {},
     "output_type": "execute_result"
    }
   ],
   "source": [
    "turnout_2008['PERCENT_TURNOUT'].compare(turnout_2012['PERCENT_TURNOUT'])"
   ]
  },
  {
   "cell_type": "code",
   "execution_count": null,
   "metadata": {},
   "outputs": [],
   "source": [
    "compare_08_to_12 = turnout_2008['PERCENT_TURNOUT'].compare(turnout_2012['PERCENT_TURNOUT'])"
   ]
  },
  {
   "cell_type": "code",
   "execution_count": null,
   "metadata": {},
   "outputs": [],
   "source": [
    "compare_08_to_12['change']= compare_08_to_12['other'] - compare_08_to_12['self']"
   ]
  },
  {
   "cell_type": "code",
   "execution_count": null,
   "metadata": {},
   "outputs": [
    {
     "data": {
      "text/html": [
       "<div>\n",
       "<style scoped>\n",
       "    .dataframe tbody tr th:only-of-type {\n",
       "        vertical-align: middle;\n",
       "    }\n",
       "\n",
       "    .dataframe tbody tr th {\n",
       "        vertical-align: top;\n",
       "    }\n",
       "\n",
       "    .dataframe thead th {\n",
       "        text-align: right;\n",
       "    }\n",
       "</style>\n",
       "<table border=\"1\" class=\"dataframe\">\n",
       "  <thead>\n",
       "    <tr style=\"text-align: right;\">\n",
       "      <th></th>\n",
       "      <th>self</th>\n",
       "      <th>other</th>\n",
       "      <th>change</th>\n",
       "    </tr>\n",
       "  </thead>\n",
       "  <tbody>\n",
       "    <tr>\n",
       "      <th>0</th>\n",
       "      <td>59.9</td>\n",
       "      <td>59.2</td>\n",
       "      <td>-0.7</td>\n",
       "    </tr>\n",
       "    <tr>\n",
       "      <th>1</th>\n",
       "      <td>60.3</td>\n",
       "      <td>54.0</td>\n",
       "      <td>-6.3</td>\n",
       "    </tr>\n",
       "    <tr>\n",
       "      <th>2</th>\n",
       "      <td>69.5</td>\n",
       "      <td>63.3</td>\n",
       "      <td>-6.2</td>\n",
       "    </tr>\n",
       "    <tr>\n",
       "      <th>3</th>\n",
       "      <td>68.3</td>\n",
       "      <td>64.0</td>\n",
       "      <td>-4.3</td>\n",
       "    </tr>\n",
       "    <tr>\n",
       "      <th>4</th>\n",
       "      <td>63.6</td>\n",
       "      <td>59.2</td>\n",
       "      <td>-4.4</td>\n",
       "    </tr>\n",
       "    <tr>\n",
       "      <th>...</th>\n",
       "      <td>...</td>\n",
       "      <td>...</td>\n",
       "      <td>...</td>\n",
       "    </tr>\n",
       "    <tr>\n",
       "      <th>115</th>\n",
       "      <td>53.2</td>\n",
       "      <td>52.1</td>\n",
       "      <td>-1.1</td>\n",
       "    </tr>\n",
       "    <tr>\n",
       "      <th>116</th>\n",
       "      <td>60.2</td>\n",
       "      <td>58.8</td>\n",
       "      <td>-1.4</td>\n",
       "    </tr>\n",
       "    <tr>\n",
       "      <th>117</th>\n",
       "      <td>54.0</td>\n",
       "      <td>50.1</td>\n",
       "      <td>-3.9</td>\n",
       "    </tr>\n",
       "    <tr>\n",
       "      <th>118</th>\n",
       "      <td>52.6</td>\n",
       "      <td>46.9</td>\n",
       "      <td>-5.7</td>\n",
       "    </tr>\n",
       "    <tr>\n",
       "      <th>119</th>\n",
       "      <td>69.3</td>\n",
       "      <td>67.1</td>\n",
       "      <td>-2.2</td>\n",
       "    </tr>\n",
       "  </tbody>\n",
       "</table>\n",
       "<p>119 rows × 3 columns</p>\n",
       "</div>"
      ],
      "text/plain": [
       "     self  other  change\n",
       "0    59.9   59.2    -0.7\n",
       "1    60.3   54.0    -6.3\n",
       "2    69.5   63.3    -6.2\n",
       "3    68.3   64.0    -4.3\n",
       "4    63.6   59.2    -4.4\n",
       "..    ...    ...     ...\n",
       "115  53.2   52.1    -1.1\n",
       "116  60.2   58.8    -1.4\n",
       "117  54.0   50.1    -3.9\n",
       "118  52.6   46.9    -5.7\n",
       "119  69.3   67.1    -2.2\n",
       "\n",
       "[119 rows x 3 columns]"
      ]
     },
     "execution_count": 40,
     "metadata": {},
     "output_type": "execute_result"
    }
   ],
   "source": [
    "compare_08_to_12"
   ]
  },
  {
   "cell_type": "code",
   "execution_count": null,
   "metadata": {},
   "outputs": [],
   "source": [
    "# (other - self) /self\n",
    "#percent change between 2008 & 2012\n",
    "compare_08_to_12['percent_change'] = (compare_08_to_12['other'] - compare_08_to_12['self']) / compare_08_to_12['self']"
   ]
  },
  {
   "cell_type": "code",
   "execution_count": null,
   "metadata": {},
   "outputs": [
    {
     "data": {
      "text/html": [
       "<div>\n",
       "<style scoped>\n",
       "    .dataframe tbody tr th:only-of-type {\n",
       "        vertical-align: middle;\n",
       "    }\n",
       "\n",
       "    .dataframe tbody tr th {\n",
       "        vertical-align: top;\n",
       "    }\n",
       "\n",
       "    .dataframe thead th {\n",
       "        text-align: right;\n",
       "    }\n",
       "</style>\n",
       "<table border=\"1\" class=\"dataframe\">\n",
       "  <thead>\n",
       "    <tr style=\"text-align: right;\">\n",
       "      <th></th>\n",
       "      <th>self</th>\n",
       "      <th>other</th>\n",
       "      <th>change</th>\n",
       "      <th>percent_change</th>\n",
       "    </tr>\n",
       "  </thead>\n",
       "  <tbody>\n",
       "    <tr>\n",
       "      <th>0</th>\n",
       "      <td>59.9</td>\n",
       "      <td>59.2</td>\n",
       "      <td>-0.7</td>\n",
       "      <td>-0.011686</td>\n",
       "    </tr>\n",
       "    <tr>\n",
       "      <th>1</th>\n",
       "      <td>60.3</td>\n",
       "      <td>54.0</td>\n",
       "      <td>-6.3</td>\n",
       "      <td>-0.104478</td>\n",
       "    </tr>\n",
       "    <tr>\n",
       "      <th>2</th>\n",
       "      <td>69.5</td>\n",
       "      <td>63.3</td>\n",
       "      <td>-6.2</td>\n",
       "      <td>-0.089209</td>\n",
       "    </tr>\n",
       "    <tr>\n",
       "      <th>3</th>\n",
       "      <td>68.3</td>\n",
       "      <td>64.0</td>\n",
       "      <td>-4.3</td>\n",
       "      <td>-0.062958</td>\n",
       "    </tr>\n",
       "    <tr>\n",
       "      <th>4</th>\n",
       "      <td>63.6</td>\n",
       "      <td>59.2</td>\n",
       "      <td>-4.4</td>\n",
       "      <td>-0.069182</td>\n",
       "    </tr>\n",
       "    <tr>\n",
       "      <th>...</th>\n",
       "      <td>...</td>\n",
       "      <td>...</td>\n",
       "      <td>...</td>\n",
       "      <td>...</td>\n",
       "    </tr>\n",
       "    <tr>\n",
       "      <th>115</th>\n",
       "      <td>53.2</td>\n",
       "      <td>52.1</td>\n",
       "      <td>-1.1</td>\n",
       "      <td>-0.020677</td>\n",
       "    </tr>\n",
       "    <tr>\n",
       "      <th>116</th>\n",
       "      <td>60.2</td>\n",
       "      <td>58.8</td>\n",
       "      <td>-1.4</td>\n",
       "      <td>-0.023256</td>\n",
       "    </tr>\n",
       "    <tr>\n",
       "      <th>117</th>\n",
       "      <td>54.0</td>\n",
       "      <td>50.1</td>\n",
       "      <td>-3.9</td>\n",
       "      <td>-0.072222</td>\n",
       "    </tr>\n",
       "    <tr>\n",
       "      <th>118</th>\n",
       "      <td>52.6</td>\n",
       "      <td>46.9</td>\n",
       "      <td>-5.7</td>\n",
       "      <td>-0.108365</td>\n",
       "    </tr>\n",
       "    <tr>\n",
       "      <th>119</th>\n",
       "      <td>69.3</td>\n",
       "      <td>67.1</td>\n",
       "      <td>-2.2</td>\n",
       "      <td>-0.031746</td>\n",
       "    </tr>\n",
       "  </tbody>\n",
       "</table>\n",
       "<p>119 rows × 4 columns</p>\n",
       "</div>"
      ],
      "text/plain": [
       "     self  other  change  percent_change\n",
       "0    59.9   59.2    -0.7       -0.011686\n",
       "1    60.3   54.0    -6.3       -0.104478\n",
       "2    69.5   63.3    -6.2       -0.089209\n",
       "3    68.3   64.0    -4.3       -0.062958\n",
       "4    63.6   59.2    -4.4       -0.069182\n",
       "..    ...    ...     ...             ...\n",
       "115  53.2   52.1    -1.1       -0.020677\n",
       "116  60.2   58.8    -1.4       -0.023256\n",
       "117  54.0   50.1    -3.9       -0.072222\n",
       "118  52.6   46.9    -5.7       -0.108365\n",
       "119  69.3   67.1    -2.2       -0.031746\n",
       "\n",
       "[119 rows x 4 columns]"
      ]
     },
     "execution_count": 42,
     "metadata": {},
     "output_type": "execute_result"
    }
   ],
   "source": [
    "compare_08_to_12"
   ]
  },
  {
   "cell_type": "code",
   "execution_count": 124,
   "metadata": {},
   "outputs": [],
   "source": [
    "#Compare 08 to 12 \n",
    "compare_08_to_12\n",
    "compare_08_to_12['County Name'] = turnout_2020['County Name']"
   ]
  },
  {
   "cell_type": "code",
   "execution_count": 136,
   "metadata": {},
   "outputs": [],
   "source": [
    "compare_08_to_12['other2'] = compare_08_to_12['other'] * 100"
   ]
  },
  {
   "cell_type": "code",
   "execution_count": 128,
   "metadata": {},
   "outputs": [
    {
     "name": "stderr",
     "output_type": "stream",
     "text": [
      "C:\\Users\\ivett\\AppData\\Local\\Temp\\ipykernel_24240\\538918704.py:1: MatplotlibDeprecationWarning:\n",
      "\n",
      "The seaborn styles shipped by Matplotlib are deprecated since 3.6, as they no longer correspond to the styles shipped by seaborn. However, they will remain available as 'seaborn-v0_8-<style>'. Alternatively, directly use the seaborn API instead.\n",
      "\n"
     ]
    },
    {
     "data": {
      "image/png": "[encoded data removed]",
      "text/plain": [
       "<Figure size 1200x600 with 1 Axes>"
      ]
     },
     "metadata": {},
     "output_type": "display_data"
    }
   ],
   "source": [
    "plt.style.use('seaborn-pastel')\n",
    "plt.figure(figsize= (12,6))\n",
    "plt.barh('County Name', 'percent_change', data = compare_08_to_12.head())\n",
    "plt.ylabel('County Name')\n",
    "plt.xlabel('percent_change')\n",
    "plt.title('Lowest Voter Turnout 5')\n",
    "plt.tight_layout()\n",
    "plt.show()"
   ]
  },
  {
   "cell_type": "code",
   "execution_count": 142,
   "metadata": {},
   "outputs": [
    {
     "data": {
      "text/html": [
       "<div>\n",
       "<style scoped>\n",
       "    .dataframe tbody tr th:only-of-type {\n",
       "        vertical-align: middle;\n",
       "    }\n",
       "\n",
       "    .dataframe tbody tr th {\n",
       "        vertical-align: top;\n",
       "    }\n",
       "\n",
       "    .dataframe thead th {\n",
       "        text-align: right;\n",
       "    }\n",
       "</style>\n",
       "<table border=\"1\" class=\"dataframe\">\n",
       "  <thead>\n",
       "    <tr style=\"text-align: right;\">\n",
       "      <th></th>\n",
       "      <th>C_CODE</th>\n",
       "      <th>COUNTY</th>\n",
       "      <th>TOTAL_REG.</th>\n",
       "      <th>NUMBER_VOTING</th>\n",
       "      <th>PERCENT_TURNOUT</th>\n",
       "      <th>DEM_REG.</th>\n",
       "      <th>NUMBER_VOTING.1</th>\n",
       "      <th>PERCENT_TURNOUT.1</th>\n",
       "      <th>REP_REG.</th>\n",
       "      <th>NUMBER_VOTING.2</th>\n",
       "      <th>PERCENT_TURNOUT.2</th>\n",
       "      <th>OTHER_REG.</th>\n",
       "      <th>NUMBER_VOTING.3</th>\n",
       "      <th>PERCENT_TURNOUT.3</th>\n",
       "    </tr>\n",
       "  </thead>\n",
       "  <tbody>\n",
       "    <tr>\n",
       "      <th>92</th>\n",
       "      <td>93</td>\n",
       "      <td>OLDHAM</td>\n",
       "      <td>43714</td>\n",
       "      <td>30126</td>\n",
       "      <td>68.9</td>\n",
       "      <td>15684</td>\n",
       "      <td>10369</td>\n",
       "      <td>66.1</td>\n",
       "      <td>23604</td>\n",
       "      <td>17405</td>\n",
       "      <td>73.7</td>\n",
       "      <td>4426</td>\n",
       "      <td>2352</td>\n",
       "      <td>53.1</td>\n",
       "    </tr>\n",
       "    <tr>\n",
       "      <th>36</th>\n",
       "      <td>37</td>\n",
       "      <td>FRANKLIN</td>\n",
       "      <td>34329</td>\n",
       "      <td>23628</td>\n",
       "      <td>68.8</td>\n",
       "      <td>25300</td>\n",
       "      <td>17788</td>\n",
       "      <td>70.3</td>\n",
       "      <td>7048</td>\n",
       "      <td>4882</td>\n",
       "      <td>69.2</td>\n",
       "      <td>1981</td>\n",
       "      <td>958</td>\n",
       "      <td>48.3</td>\n",
       "    </tr>\n",
       "    <tr>\n",
       "      <th>107</th>\n",
       "      <td>108</td>\n",
       "      <td>SPENCER</td>\n",
       "      <td>12560</td>\n",
       "      <td>8554</td>\n",
       "      <td>68.1</td>\n",
       "      <td>6519</td>\n",
       "      <td>4334</td>\n",
       "      <td>66.4</td>\n",
       "      <td>5235</td>\n",
       "      <td>3783</td>\n",
       "      <td>72.2</td>\n",
       "      <td>806</td>\n",
       "      <td>437</td>\n",
       "      <td>54.2</td>\n",
       "    </tr>\n",
       "    <tr>\n",
       "      <th>119</th>\n",
       "      <td>120</td>\n",
       "      <td>WOODFORD</td>\n",
       "      <td>18347</td>\n",
       "      <td>12323</td>\n",
       "      <td>67.1</td>\n",
       "      <td>10669</td>\n",
       "      <td>7312</td>\n",
       "      <td>68.5</td>\n",
       "      <td>6321</td>\n",
       "      <td>4320</td>\n",
       "      <td>68.3</td>\n",
       "      <td>1357</td>\n",
       "      <td>691</td>\n",
       "      <td>50.9</td>\n",
       "    </tr>\n",
       "    <tr>\n",
       "      <th>19</th>\n",
       "      <td>20</td>\n",
       "      <td>CARLISLE</td>\n",
       "      <td>3952</td>\n",
       "      <td>2646</td>\n",
       "      <td>66.9</td>\n",
       "      <td>3118</td>\n",
       "      <td>2108</td>\n",
       "      <td>67.6</td>\n",
       "      <td>733</td>\n",
       "      <td>502</td>\n",
       "      <td>68.4</td>\n",
       "      <td>101</td>\n",
       "      <td>36</td>\n",
       "      <td>35.6</td>\n",
       "    </tr>\n",
       "  </tbody>\n",
       "</table>\n",
       "</div>"
      ],
      "text/plain": [
       "     C_CODE    COUNTY  TOTAL_REG.  NUMBER_VOTING  PERCENT_TURNOUT  DEM_REG.  \\\n",
       "92       93    OLDHAM       43714          30126             68.9     15684   \n",
       "36       37  FRANKLIN       34329          23628             68.8     25300   \n",
       "107     108   SPENCER       12560           8554             68.1      6519   \n",
       "119     120  WOODFORD       18347          12323             67.1     10669   \n",
       "19       20  CARLISLE        3952           2646             66.9      3118   \n",
       "\n",
       "     NUMBER_VOTING.1  PERCENT_TURNOUT.1  REP_REG.  NUMBER_VOTING.2  \\\n",
       "92             10369               66.1     23604            17405   \n",
       "36             17788               70.3      7048             4882   \n",
       "107             4334               66.4      5235             3783   \n",
       "119             7312               68.5      6321             4320   \n",
       "19              2108               67.6       733              502   \n",
       "\n",
       "     PERCENT_TURNOUT.2  OTHER_REG.  NUMBER_VOTING.3  PERCENT_TURNOUT.3  \n",
       "92                73.7        4426             2352               53.1  \n",
       "36                69.2        1981              958               48.3  \n",
       "107               72.2         806              437               54.2  \n",
       "119               68.3        1357              691               50.9  \n",
       "19                68.4         101               36               35.6  "
      ]
     },
     "execution_count": 142,
     "metadata": {},
     "output_type": "execute_result"
    }
   ],
   "source": [
    "top_turnout_counties = turnout_2012.sort_values(by=['PERCENT_TURNOUT'], ascending=False).head()\n",
    "top_turnout_counties"
   ]
  },
  {
   "cell_type": "code",
   "execution_count": 147,
   "metadata": {},
   "outputs": [
    {
     "data": {
      "text/html": [
       "<div>\n",
       "<style scoped>\n",
       "    .dataframe tbody tr th:only-of-type {\n",
       "        vertical-align: middle;\n",
       "    }\n",
       "\n",
       "    .dataframe tbody tr th {\n",
       "        vertical-align: top;\n",
       "    }\n",
       "\n",
       "    .dataframe thead th {\n",
       "        text-align: right;\n",
       "    }\n",
       "</style>\n",
       "<table border=\"1\" class=\"dataframe\">\n",
       "  <thead>\n",
       "    <tr style=\"text-align: right;\">\n",
       "      <th></th>\n",
       "      <th>C_CODE</th>\n",
       "      <th>COUNTY</th>\n",
       "      <th>TOTAL_REG.</th>\n",
       "      <th>NUMBER_VOTING</th>\n",
       "      <th>PERCENT_TURNOUT</th>\n",
       "      <th>DEM_REG.</th>\n",
       "      <th>NUMBER_VOTING.1</th>\n",
       "      <th>PERCENT_TURNOUT.1</th>\n",
       "      <th>REP_REG.</th>\n",
       "      <th>NUMBER_VOTING.2</th>\n",
       "      <th>PERCENT_TURNOUT.2</th>\n",
       "      <th>OTHER_REG.</th>\n",
       "      <th>NUMBER_VOTING.3</th>\n",
       "      <th>PERCENT_TURNOUT.3</th>\n",
       "    </tr>\n",
       "  </thead>\n",
       "  <tbody>\n",
       "    <tr>\n",
       "      <th>94</th>\n",
       "      <td>95</td>\n",
       "      <td>OWSLEY</td>\n",
       "      <td>3497</td>\n",
       "      <td>1591</td>\n",
       "      <td>45.4</td>\n",
       "      <td>917</td>\n",
       "      <td>398</td>\n",
       "      <td>43.4</td>\n",
       "      <td>2513</td>\n",
       "      <td>1168</td>\n",
       "      <td>46.4</td>\n",
       "      <td>67</td>\n",
       "      <td>25</td>\n",
       "      <td>37.3</td>\n",
       "    </tr>\n",
       "    <tr>\n",
       "      <th>12</th>\n",
       "      <td>13</td>\n",
       "      <td>BREATHIT</td>\n",
       "      <td>11343</td>\n",
       "      <td>5199</td>\n",
       "      <td>45.8</td>\n",
       "      <td>10201</td>\n",
       "      <td>4748</td>\n",
       "      <td>46.5</td>\n",
       "      <td>890</td>\n",
       "      <td>375</td>\n",
       "      <td>42.1</td>\n",
       "      <td>252</td>\n",
       "      <td>76</td>\n",
       "      <td>30.1</td>\n",
       "    </tr>\n",
       "    <tr>\n",
       "      <th>118</th>\n",
       "      <td>119</td>\n",
       "      <td>WOLFE</td>\n",
       "      <td>5575</td>\n",
       "      <td>2616</td>\n",
       "      <td>46.9</td>\n",
       "      <td>4974</td>\n",
       "      <td>2347</td>\n",
       "      <td>47.1</td>\n",
       "      <td>462</td>\n",
       "      <td>240</td>\n",
       "      <td>51.9</td>\n",
       "      <td>139</td>\n",
       "      <td>29</td>\n",
       "      <td>20.8</td>\n",
       "    </tr>\n",
       "    <tr>\n",
       "      <th>76</th>\n",
       "      <td>80</td>\n",
       "      <td>MARTIN</td>\n",
       "      <td>8056</td>\n",
       "      <td>3865</td>\n",
       "      <td>47.9</td>\n",
       "      <td>2341</td>\n",
       "      <td>951</td>\n",
       "      <td>40.6</td>\n",
       "      <td>5587</td>\n",
       "      <td>2870</td>\n",
       "      <td>51.3</td>\n",
       "      <td>128</td>\n",
       "      <td>44</td>\n",
       "      <td>34.3</td>\n",
       "    </tr>\n",
       "    <tr>\n",
       "      <th>63</th>\n",
       "      <td>64</td>\n",
       "      <td>LAWRENCE</td>\n",
       "      <td>11726</td>\n",
       "      <td>5738</td>\n",
       "      <td>48.9</td>\n",
       "      <td>6324</td>\n",
       "      <td>2817</td>\n",
       "      <td>44.5</td>\n",
       "      <td>4759</td>\n",
       "      <td>2701</td>\n",
       "      <td>56.7</td>\n",
       "      <td>643</td>\n",
       "      <td>220</td>\n",
       "      <td>34.2</td>\n",
       "    </tr>\n",
       "  </tbody>\n",
       "</table>\n",
       "</div>"
      ],
      "text/plain": [
       "     C_CODE    COUNTY  TOTAL_REG.  NUMBER_VOTING  PERCENT_TURNOUT  DEM_REG.  \\\n",
       "94       95    OWSLEY        3497           1591             45.4       917   \n",
       "12       13  BREATHIT       11343           5199             45.8     10201   \n",
       "118     119     WOLFE        5575           2616             46.9      4974   \n",
       "76       80    MARTIN        8056           3865             47.9      2341   \n",
       "63       64  LAWRENCE       11726           5738             48.9      6324   \n",
       "\n",
       "     NUMBER_VOTING.1  PERCENT_TURNOUT.1  REP_REG.  NUMBER_VOTING.2  \\\n",
       "94               398               43.4      2513             1168   \n",
       "12              4748               46.5       890              375   \n",
       "118             2347               47.1       462              240   \n",
       "76               951               40.6      5587             2870   \n",
       "63              2817               44.5      4759             2701   \n",
       "\n",
       "     PERCENT_TURNOUT.2  OTHER_REG.  NUMBER_VOTING.3  PERCENT_TURNOUT.3  \n",
       "94                46.4          67               25               37.3  \n",
       "12                42.1         252               76               30.1  \n",
       "118               51.9         139               29               20.8  \n",
       "76                51.3         128               44               34.3  \n",
       "63                56.7         643              220               34.2  "
      ]
     },
     "execution_count": 147,
     "metadata": {},
     "output_type": "execute_result"
    }
   ],
   "source": [
    "low_turnout_counties = turnout_2012.sort_values(by=['PERCENT_TURNOUT'], ascending=True).head()\n",
    "low_turnout_counties"
   ]
  },
  {
   "cell_type": "code",
   "execution_count": 149,
   "metadata": {},
   "outputs": [
    {
     "data": {
      "text/html": [
       "<div>\n",
       "<style scoped>\n",
       "    .dataframe tbody tr th:only-of-type {\n",
       "        vertical-align: middle;\n",
       "    }\n",
       "\n",
       "    .dataframe tbody tr th {\n",
       "        vertical-align: top;\n",
       "    }\n",
       "\n",
       "    .dataframe thead th {\n",
       "        text-align: right;\n",
       "    }\n",
       "</style>\n",
       "<table border=\"1\" class=\"dataframe\">\n",
       "  <thead>\n",
       "    <tr style=\"text-align: right;\">\n",
       "      <th></th>\n",
       "      <th>self</th>\n",
       "      <th>other</th>\n",
       "      <th>percent_change</th>\n",
       "      <th>County Name</th>\n",
       "      <th>other2</th>\n",
       "    </tr>\n",
       "  </thead>\n",
       "  <tbody>\n",
       "    <tr>\n",
       "      <th>63</th>\n",
       "      <td>48.9</td>\n",
       "      <td>0.499</td>\n",
       "      <td>-0.989796</td>\n",
       "      <td>LAWRENCE</td>\n",
       "      <td>49.9</td>\n",
       "    </tr>\n",
       "    <tr>\n",
       "      <th>79</th>\n",
       "      <td>53.0</td>\n",
       "      <td>0.480</td>\n",
       "      <td>-0.990943</td>\n",
       "      <td>MARTIN</td>\n",
       "      <td>48.0</td>\n",
       "    </tr>\n",
       "    <tr>\n",
       "      <th>94</th>\n",
       "      <td>45.4</td>\n",
       "      <td>0.502</td>\n",
       "      <td>-0.988943</td>\n",
       "      <td>OWSLEY</td>\n",
       "      <td>50.2</td>\n",
       "    </tr>\n",
       "    <tr>\n",
       "      <th>118</th>\n",
       "      <td>46.9</td>\n",
       "      <td>0.473</td>\n",
       "      <td>-0.989915</td>\n",
       "      <td>WOLFE</td>\n",
       "      <td>47.3</td>\n",
       "    </tr>\n",
       "  </tbody>\n",
       "</table>\n",
       "</div>"
      ],
      "text/plain": [
       "     self  other  percent_change County Name  other2\n",
       "63   48.9  0.499       -0.989796    LAWRENCE    49.9\n",
       "79   53.0  0.480       -0.990943      MARTIN    48.0\n",
       "94   45.4  0.502       -0.988943      OWSLEY    50.2\n",
       "118  46.9  0.473       -0.989915       WOLFE    47.3"
      ]
     },
     "execution_count": 149,
     "metadata": {},
     "output_type": "execute_result"
    }
   ],
   "source": [
    "compare_08_to_12[compare_08_to_12['County Name'].isin(low_turnout_counties['COUNTY'])]"
   ]
  },
  {
   "cell_type": "code",
   "execution_count": 146,
   "metadata": {},
   "outputs": [
    {
     "data": {
      "image/png": "[encoded data removed]",
      "text/plain": [
       "<Figure size 640x480 with 1 Axes>"
      ]
     },
     "metadata": {},
     "output_type": "display_data"
    }
   ],
   "source": [
    "ind = np.arange(len(compare_08_to_12.head()))\n",
    "width = 0.4\n",
    "\n",
    "fig, ax = plt.subplots()\n",
    "ax.barh(ind,compare_08_to_12[compare_08_to_12['County Name'].isin(top_turnout_counties['COUNTY'])]['self'], width, color='red', label='2008')\n",
    "ax.barh(ind + width, compare_08_to_12[compare_08_to_12['County Name'].isin(top_turnout_counties['COUNTY'])]['other2'], width, color='green', label='2012')\n",
    "\n",
    "ax.set(yticks=ind + width, yticklabels=compare_08_to_12[compare_08_to_12['County Name'].isin(top_turnout_counties['COUNTY'])]['County Name'], ylim=[2*width - 1, len(compare_08_to_12.head())])\n",
    "ax.legend()\n",
    "\n",
    "plt.show()"
   ]
  },
  {
   "cell_type": "code",
   "execution_count": 150,
   "metadata": {},
   "outputs": [
    {
     "data": {
      "image/png": "[encoded data removed]",
      "text/plain": [
       "<Figure size 640x480 with 1 Axes>"
      ]
     },
     "metadata": {},
     "output_type": "display_data"
    }
   ],
   "source": [
    "ind = np.arange(len(compare_08_to_12.head(4)))\n",
    "width = 0.4\n",
    "\n",
    "fig, ax = plt.subplots()\n",
    "ax.barh(ind,compare_08_to_12[compare_08_to_12['County Name'].isin(low_turnout_counties['COUNTY'])]['self'], width, color='red', label='2008')\n",
    "ax.barh(ind + width, compare_08_to_12[compare_08_to_12['County Name'].isin(low_turnout_counties['COUNTY'])]['other2'], width, color='green', label='2012')\n",
    "\n",
    "ax.set(yticks=ind + width, yticklabels=compare_08_to_12[compare_08_to_12['County Name'].isin(low_turnout_counties['COUNTY'])]['County Name'], ylim=[2*width - 1, len(compare_08_to_12.head(4))])\n",
    "ax.legend()\n",
    "\n",
    "plt.show()"
   ]
  },
  {
   "cell_type": "code",
   "execution_count": 137,
   "metadata": {},
   "outputs": [
    {
     "data": {
      "text/html": [
       "<div>\n",
       "<style scoped>\n",
       "    .dataframe tbody tr th:only-of-type {\n",
       "        vertical-align: middle;\n",
       "    }\n",
       "\n",
       "    .dataframe tbody tr th {\n",
       "        vertical-align: top;\n",
       "    }\n",
       "\n",
       "    .dataframe thead th {\n",
       "        text-align: right;\n",
       "    }\n",
       "</style>\n",
       "<table border=\"1\" class=\"dataframe\">\n",
       "  <thead>\n",
       "    <tr style=\"text-align: right;\">\n",
       "      <th></th>\n",
       "      <th>self</th>\n",
       "      <th>other</th>\n",
       "      <th>percent_change</th>\n",
       "      <th>County Name</th>\n",
       "      <th>other2</th>\n",
       "    </tr>\n",
       "  </thead>\n",
       "  <tbody>\n",
       "    <tr>\n",
       "      <th>0</th>\n",
       "      <td>59.2</td>\n",
       "      <td>0.610</td>\n",
       "      <td>-0.989696</td>\n",
       "      <td>ADAIR</td>\n",
       "      <td>61.0</td>\n",
       "    </tr>\n",
       "    <tr>\n",
       "      <th>1</th>\n",
       "      <td>54.0</td>\n",
       "      <td>0.569</td>\n",
       "      <td>-0.989463</td>\n",
       "      <td>ALLEN</td>\n",
       "      <td>56.9</td>\n",
       "    </tr>\n",
       "    <tr>\n",
       "      <th>2</th>\n",
       "      <td>63.3</td>\n",
       "      <td>0.653</td>\n",
       "      <td>-0.989684</td>\n",
       "      <td>ANDERSON</td>\n",
       "      <td>65.3</td>\n",
       "    </tr>\n",
       "    <tr>\n",
       "      <th>3</th>\n",
       "      <td>64.0</td>\n",
       "      <td>0.649</td>\n",
       "      <td>-0.989859</td>\n",
       "      <td>BALLARD</td>\n",
       "      <td>64.9</td>\n",
       "    </tr>\n",
       "    <tr>\n",
       "      <th>4</th>\n",
       "      <td>59.2</td>\n",
       "      <td>0.600</td>\n",
       "      <td>-0.989865</td>\n",
       "      <td>BARREN</td>\n",
       "      <td>60.0</td>\n",
       "    </tr>\n",
       "    <tr>\n",
       "      <th>...</th>\n",
       "      <td>...</td>\n",
       "      <td>...</td>\n",
       "      <td>...</td>\n",
       "      <td>...</td>\n",
       "      <td>...</td>\n",
       "    </tr>\n",
       "    <tr>\n",
       "      <th>115</th>\n",
       "      <td>52.1</td>\n",
       "      <td>0.545</td>\n",
       "      <td>-0.989539</td>\n",
       "      <td>WAYNE</td>\n",
       "      <td>54.5</td>\n",
       "    </tr>\n",
       "    <tr>\n",
       "      <th>116</th>\n",
       "      <td>58.8</td>\n",
       "      <td>0.612</td>\n",
       "      <td>-0.989592</td>\n",
       "      <td>WEBSTER</td>\n",
       "      <td>61.2</td>\n",
       "    </tr>\n",
       "    <tr>\n",
       "      <th>117</th>\n",
       "      <td>50.1</td>\n",
       "      <td>0.511</td>\n",
       "      <td>-0.989800</td>\n",
       "      <td>WHITLEY</td>\n",
       "      <td>51.1</td>\n",
       "    </tr>\n",
       "    <tr>\n",
       "      <th>118</th>\n",
       "      <td>46.9</td>\n",
       "      <td>0.473</td>\n",
       "      <td>-0.989915</td>\n",
       "      <td>WOLFE</td>\n",
       "      <td>47.3</td>\n",
       "    </tr>\n",
       "    <tr>\n",
       "      <th>119</th>\n",
       "      <td>67.1</td>\n",
       "      <td>0.671</td>\n",
       "      <td>-0.990000</td>\n",
       "      <td>WOODFORD</td>\n",
       "      <td>67.1</td>\n",
       "    </tr>\n",
       "  </tbody>\n",
       "</table>\n",
       "<p>120 rows × 5 columns</p>\n",
       "</div>"
      ],
      "text/plain": [
       "     self  other  percent_change County Name  other2\n",
       "0    59.2  0.610       -0.989696       ADAIR    61.0\n",
       "1    54.0  0.569       -0.989463       ALLEN    56.9\n",
       "2    63.3  0.653       -0.989684    ANDERSON    65.3\n",
       "3    64.0  0.649       -0.989859     BALLARD    64.9\n",
       "4    59.2  0.600       -0.989865      BARREN    60.0\n",
       "..    ...    ...             ...         ...     ...\n",
       "115  52.1  0.545       -0.989539       WAYNE    54.5\n",
       "116  58.8  0.612       -0.989592     WEBSTER    61.2\n",
       "117  50.1  0.511       -0.989800     WHITLEY    51.1\n",
       "118  46.9  0.473       -0.989915       WOLFE    47.3\n",
       "119  67.1  0.671       -0.990000    WOODFORD    67.1\n",
       "\n",
       "[120 rows x 5 columns]"
      ]
     },
     "execution_count": 137,
     "metadata": {},
     "output_type": "execute_result"
    }
   ],
   "source": [
    "compare_08_to_12"
   ]
  },
  {
   "cell_type": "code",
   "execution_count": null,
   "metadata": {},
   "outputs": [],
   "source": [
    "# (other - self) /self\n",
    "#percent change between 2008 & 2012\n",
    "compare_08_to_12['percent_change'] = (compare_08_to_12['other'] - compare_08_to_12['self']) / compare_08_to_12['self']"
   ]
  },
  {
   "cell_type": "code",
   "execution_count": null,
   "metadata": {},
   "outputs": [],
   "source": [
    "# Calculate Percentage Change Between 2012 & 2016 (other - self) /self) = (old-new)/old\n",
    "turnout_2016 = pd.read_excel('KY_Turnout_2016.xlsx')"
   ]
  },
  {
   "cell_type": "code",
   "execution_count": null,
   "metadata": {},
   "outputs": [
    {
     "data": {
      "text/html": [
       "<div>\n",
       "<style scoped>\n",
       "    .dataframe tbody tr th:only-of-type {\n",
       "        vertical-align: middle;\n",
       "    }\n",
       "\n",
       "    .dataframe tbody tr th {\n",
       "        vertical-align: top;\n",
       "    }\n",
       "\n",
       "    .dataframe thead th {\n",
       "        text-align: right;\n",
       "    }\n",
       "</style>\n",
       "<table border=\"1\" class=\"dataframe\">\n",
       "  <thead>\n",
       "    <tr style=\"text-align: right;\">\n",
       "      <th></th>\n",
       "      <th>Cty Code</th>\n",
       "      <th>County Name</th>\n",
       "      <th>Total Reg.</th>\n",
       "      <th>Number voting turnout</th>\n",
       "      <th>Percent voting turnout</th>\n",
       "      <th>Dem Reg.</th>\n",
       "      <th>Number voting turnout Dem</th>\n",
       "      <th>Percent voter turnout Dem</th>\n",
       "      <th>Rep Reg.</th>\n",
       "      <th>Number voting turnout.1</th>\n",
       "      <th>Percent voter turnout Rep</th>\n",
       "      <th>Reg other</th>\n",
       "      <th>Number voting turnout.2</th>\n",
       "      <th>Percent voting turnout other</th>\n",
       "    </tr>\n",
       "  </thead>\n",
       "  <tbody>\n",
       "    <tr>\n",
       "      <th>0</th>\n",
       "      <td>1</td>\n",
       "      <td>ADAIR</td>\n",
       "      <td>13622</td>\n",
       "      <td>8315</td>\n",
       "      <td>0.610</td>\n",
       "      <td>3815</td>\n",
       "      <td>2183</td>\n",
       "      <td>0.572</td>\n",
       "      <td>9026</td>\n",
       "      <td>5778</td>\n",
       "      <td>0.640</td>\n",
       "      <td>781</td>\n",
       "      <td>354</td>\n",
       "      <td>0.453</td>\n",
       "    </tr>\n",
       "    <tr>\n",
       "      <th>1</th>\n",
       "      <td>2</td>\n",
       "      <td>ALLEN</td>\n",
       "      <td>14426</td>\n",
       "      <td>8210</td>\n",
       "      <td>0.569</td>\n",
       "      <td>4791</td>\n",
       "      <td>2503</td>\n",
       "      <td>0.522</td>\n",
       "      <td>8621</td>\n",
       "      <td>5340</td>\n",
       "      <td>0.619</td>\n",
       "      <td>1014</td>\n",
       "      <td>367</td>\n",
       "      <td>0.362</td>\n",
       "    </tr>\n",
       "    <tr>\n",
       "      <th>2</th>\n",
       "      <td>3</td>\n",
       "      <td>ANDERSON</td>\n",
       "      <td>17722</td>\n",
       "      <td>11570</td>\n",
       "      <td>0.653</td>\n",
       "      <td>9803</td>\n",
       "      <td>6392</td>\n",
       "      <td>0.652</td>\n",
       "      <td>6697</td>\n",
       "      <td>4610</td>\n",
       "      <td>0.688</td>\n",
       "      <td>1222</td>\n",
       "      <td>568</td>\n",
       "      <td>0.465</td>\n",
       "    </tr>\n",
       "    <tr>\n",
       "      <th>3</th>\n",
       "      <td>4</td>\n",
       "      <td>BALLARD</td>\n",
       "      <td>6406</td>\n",
       "      <td>4156</td>\n",
       "      <td>0.649</td>\n",
       "      <td>4482</td>\n",
       "      <td>2940</td>\n",
       "      <td>0.656</td>\n",
       "      <td>1614</td>\n",
       "      <td>1087</td>\n",
       "      <td>0.673</td>\n",
       "      <td>310</td>\n",
       "      <td>129</td>\n",
       "      <td>0.416</td>\n",
       "    </tr>\n",
       "    <tr>\n",
       "      <th>4</th>\n",
       "      <td>5</td>\n",
       "      <td>BARREN</td>\n",
       "      <td>30762</td>\n",
       "      <td>18470</td>\n",
       "      <td>0.600</td>\n",
       "      <td>16307</td>\n",
       "      <td>9496</td>\n",
       "      <td>0.582</td>\n",
       "      <td>12457</td>\n",
       "      <td>8117</td>\n",
       "      <td>0.652</td>\n",
       "      <td>1998</td>\n",
       "      <td>857</td>\n",
       "      <td>0.429</td>\n",
       "    </tr>\n",
       "    <tr>\n",
       "      <th>...</th>\n",
       "      <td>...</td>\n",
       "      <td>...</td>\n",
       "      <td>...</td>\n",
       "      <td>...</td>\n",
       "      <td>...</td>\n",
       "      <td>...</td>\n",
       "      <td>...</td>\n",
       "      <td>...</td>\n",
       "      <td>...</td>\n",
       "      <td>...</td>\n",
       "      <td>...</td>\n",
       "      <td>...</td>\n",
       "      <td>...</td>\n",
       "      <td>...</td>\n",
       "    </tr>\n",
       "    <tr>\n",
       "      <th>115</th>\n",
       "      <td>116</td>\n",
       "      <td>WAYNE</td>\n",
       "      <td>14738</td>\n",
       "      <td>8031</td>\n",
       "      <td>0.545</td>\n",
       "      <td>5142</td>\n",
       "      <td>2563</td>\n",
       "      <td>0.498</td>\n",
       "      <td>8911</td>\n",
       "      <td>5214</td>\n",
       "      <td>0.585</td>\n",
       "      <td>685</td>\n",
       "      <td>254</td>\n",
       "      <td>0.371</td>\n",
       "    </tr>\n",
       "    <tr>\n",
       "      <th>116</th>\n",
       "      <td>117</td>\n",
       "      <td>WEBSTER</td>\n",
       "      <td>9681</td>\n",
       "      <td>5923</td>\n",
       "      <td>0.612</td>\n",
       "      <td>6967</td>\n",
       "      <td>4416</td>\n",
       "      <td>0.634</td>\n",
       "      <td>2232</td>\n",
       "      <td>1320</td>\n",
       "      <td>0.591</td>\n",
       "      <td>482</td>\n",
       "      <td>187</td>\n",
       "      <td>0.388</td>\n",
       "    </tr>\n",
       "    <tr>\n",
       "      <th>117</th>\n",
       "      <td>118</td>\n",
       "      <td>WHITLEY</td>\n",
       "      <td>26828</td>\n",
       "      <td>13701</td>\n",
       "      <td>0.511</td>\n",
       "      <td>6239</td>\n",
       "      <td>2446</td>\n",
       "      <td>0.392</td>\n",
       "      <td>19158</td>\n",
       "      <td>10765</td>\n",
       "      <td>0.562</td>\n",
       "      <td>1431</td>\n",
       "      <td>490</td>\n",
       "      <td>0.342</td>\n",
       "    </tr>\n",
       "    <tr>\n",
       "      <th>118</th>\n",
       "      <td>119</td>\n",
       "      <td>WOLFE</td>\n",
       "      <td>5603</td>\n",
       "      <td>2652</td>\n",
       "      <td>0.473</td>\n",
       "      <td>4767</td>\n",
       "      <td>2268</td>\n",
       "      <td>0.476</td>\n",
       "      <td>640</td>\n",
       "      <td>341</td>\n",
       "      <td>0.533</td>\n",
       "      <td>196</td>\n",
       "      <td>43</td>\n",
       "      <td>0.219</td>\n",
       "    </tr>\n",
       "    <tr>\n",
       "      <th>119</th>\n",
       "      <td>120</td>\n",
       "      <td>WOODFORD</td>\n",
       "      <td>20526</td>\n",
       "      <td>13765</td>\n",
       "      <td>0.671</td>\n",
       "      <td>10928</td>\n",
       "      <td>7435</td>\n",
       "      <td>0.680</td>\n",
       "      <td>7913</td>\n",
       "      <td>5457</td>\n",
       "      <td>0.690</td>\n",
       "      <td>1685</td>\n",
       "      <td>873</td>\n",
       "      <td>0.518</td>\n",
       "    </tr>\n",
       "  </tbody>\n",
       "</table>\n",
       "<p>120 rows × 14 columns</p>\n",
       "</div>"
      ],
      "text/plain": [
       "     Cty Code County Name  Total Reg.  Number voting turnout  \\\n",
       "0           1       ADAIR       13622                   8315   \n",
       "1           2       ALLEN       14426                   8210   \n",
       "2           3    ANDERSON       17722                  11570   \n",
       "3           4     BALLARD        6406                   4156   \n",
       "4           5      BARREN       30762                  18470   \n",
       "..        ...         ...         ...                    ...   \n",
       "115       116       WAYNE       14738                   8031   \n",
       "116       117     WEBSTER        9681                   5923   \n",
       "117       118     WHITLEY       26828                  13701   \n",
       "118       119       WOLFE        5603                   2652   \n",
       "119       120    WOODFORD       20526                  13765   \n",
       "\n",
       "     Percent voting turnout  Dem Reg.  Number voting turnout Dem  \\\n",
       "0                     0.610      3815                       2183   \n",
       "1                     0.569      4791                       2503   \n",
       "2                     0.653      9803                       6392   \n",
       "3                     0.649      4482                       2940   \n",
       "4                     0.600     16307                       9496   \n",
       "..                      ...       ...                        ...   \n",
       "115                   0.545      5142                       2563   \n",
       "116                   0.612      6967                       4416   \n",
       "117                   0.511      6239                       2446   \n",
       "118                   0.473      4767                       2268   \n",
       "119                   0.671     10928                       7435   \n",
       "\n",
       "     Percent voter turnout Dem  Rep Reg.  Number voting turnout.1  \\\n",
       "0                        0.572      9026                     5778   \n",
       "1                        0.522      8621                     5340   \n",
       "2                        0.652      6697                     4610   \n",
       "3                        0.656      1614                     1087   \n",
       "4                        0.582     12457                     8117   \n",
       "..                         ...       ...                      ...   \n",
       "115                      0.498      8911                     5214   \n",
       "116                      0.634      2232                     1320   \n",
       "117                      0.392     19158                    10765   \n",
       "118                      0.476       640                      341   \n",
       "119                      0.680      7913                     5457   \n",
       "\n",
       "     Percent voter turnout Rep  Reg other  Number voting turnout.2  \\\n",
       "0                        0.640        781                      354   \n",
       "1                        0.619       1014                      367   \n",
       "2                        0.688       1222                      568   \n",
       "3                        0.673        310                      129   \n",
       "4                        0.652       1998                      857   \n",
       "..                         ...        ...                      ...   \n",
       "115                      0.585        685                      254   \n",
       "116                      0.591        482                      187   \n",
       "117                      0.562       1431                      490   \n",
       "118                      0.533        196                       43   \n",
       "119                      0.690       1685                      873   \n",
       "\n",
       "     Percent voting turnout other  \n",
       "0                           0.453  \n",
       "1                           0.362  \n",
       "2                           0.465  \n",
       "3                           0.416  \n",
       "4                           0.429  \n",
       "..                            ...  \n",
       "115                         0.371  \n",
       "116                         0.388  \n",
       "117                         0.342  \n",
       "118                         0.219  \n",
       "119                         0.518  \n",
       "\n",
       "[120 rows x 14 columns]"
      ]
     },
     "execution_count": 45,
     "metadata": {},
     "output_type": "execute_result"
    }
   ],
   "source": [
    "turnout_2016 "
   ]
  },
  {
   "cell_type": "code",
   "execution_count": null,
   "metadata": {},
   "outputs": [
    {
     "data": {
      "text/plain": [
       "array([  0,   1,   2,   3,   4,   5,   6,   7,   8,   9,  10,  11,  12,\n",
       "        13,  14,  15,  16,  17,  18,  19,  20,  21,  22,  23,  24,  25,\n",
       "        26,  27,  28,  29,  30,  31,  32,  33,  34,  35,  36,  37,  38,\n",
       "        39,  40,  41,  42,  43,  44,  45,  46,  47,  48,  49,  50,  51,\n",
       "        52,  53,  54,  55,  56,  57,  58,  59,  60,  61,  62,  63,  64,\n",
       "        65,  66,  67,  68,  69,  70,  71,  72,  73,  74,  75,  76,  77,\n",
       "        78,  79,  80,  81,  82,  83,  84,  85,  86,  87,  88,  89,  90,\n",
       "        91,  92,  93,  94,  95,  96,  97,  98,  99, 100, 101, 102, 103,\n",
       "       104, 105, 106, 107, 108, 109, 110, 111, 112, 113, 114, 115, 116,\n",
       "       117, 118, 119], dtype=int64)"
      ]
     },
     "execution_count": 46,
     "metadata": {},
     "output_type": "execute_result"
    }
   ],
   "source": [
    "turnout_2016.index.values"
   ]
  },
  {
   "cell_type": "code",
   "execution_count": null,
   "metadata": {},
   "outputs": [
    {
     "data": {
      "text/html": [
       "<div>\n",
       "<style scoped>\n",
       "    .dataframe tbody tr th:only-of-type {\n",
       "        vertical-align: middle;\n",
       "    }\n",
       "\n",
       "    .dataframe tbody tr th {\n",
       "        vertical-align: top;\n",
       "    }\n",
       "\n",
       "    .dataframe thead th {\n",
       "        text-align: right;\n",
       "    }\n",
       "</style>\n",
       "<table border=\"1\" class=\"dataframe\">\n",
       "  <thead>\n",
       "    <tr style=\"text-align: right;\">\n",
       "      <th></th>\n",
       "      <th>self</th>\n",
       "      <th>other</th>\n",
       "    </tr>\n",
       "  </thead>\n",
       "  <tbody>\n",
       "    <tr>\n",
       "      <th>0</th>\n",
       "      <td>59.2</td>\n",
       "      <td>0.610</td>\n",
       "    </tr>\n",
       "    <tr>\n",
       "      <th>1</th>\n",
       "      <td>54.0</td>\n",
       "      <td>0.569</td>\n",
       "    </tr>\n",
       "    <tr>\n",
       "      <th>2</th>\n",
       "      <td>63.3</td>\n",
       "      <td>0.653</td>\n",
       "    </tr>\n",
       "    <tr>\n",
       "      <th>3</th>\n",
       "      <td>64.0</td>\n",
       "      <td>0.649</td>\n",
       "    </tr>\n",
       "    <tr>\n",
       "      <th>4</th>\n",
       "      <td>59.2</td>\n",
       "      <td>0.600</td>\n",
       "    </tr>\n",
       "    <tr>\n",
       "      <th>...</th>\n",
       "      <td>...</td>\n",
       "      <td>...</td>\n",
       "    </tr>\n",
       "    <tr>\n",
       "      <th>115</th>\n",
       "      <td>52.1</td>\n",
       "      <td>0.545</td>\n",
       "    </tr>\n",
       "    <tr>\n",
       "      <th>116</th>\n",
       "      <td>58.8</td>\n",
       "      <td>0.612</td>\n",
       "    </tr>\n",
       "    <tr>\n",
       "      <th>117</th>\n",
       "      <td>50.1</td>\n",
       "      <td>0.511</td>\n",
       "    </tr>\n",
       "    <tr>\n",
       "      <th>118</th>\n",
       "      <td>46.9</td>\n",
       "      <td>0.473</td>\n",
       "    </tr>\n",
       "    <tr>\n",
       "      <th>119</th>\n",
       "      <td>67.1</td>\n",
       "      <td>0.671</td>\n",
       "    </tr>\n",
       "  </tbody>\n",
       "</table>\n",
       "<p>120 rows × 2 columns</p>\n",
       "</div>"
      ],
      "text/plain": [
       "     self  other\n",
       "0    59.2  0.610\n",
       "1    54.0  0.569\n",
       "2    63.3  0.653\n",
       "3    64.0  0.649\n",
       "4    59.2  0.600\n",
       "..    ...    ...\n",
       "115  52.1  0.545\n",
       "116  58.8  0.612\n",
       "117  50.1  0.511\n",
       "118  46.9  0.473\n",
       "119  67.1  0.671\n",
       "\n",
       "[120 rows x 2 columns]"
      ]
     },
     "execution_count": 81,
     "metadata": {},
     "output_type": "execute_result"
    }
   ],
   "source": [
    "turnout_2012['PERCENT_TURNOUT'].compare(turnout_2016['Percent voting turnout'])\n"
   ]
  },
  {
   "cell_type": "code",
   "execution_count": null,
   "metadata": {},
   "outputs": [],
   "source": [
    "compare_12_to_16 = turnout_2012['PERCENT_TURNOUT'].compare(turnout_2016['Percent voting turnout'])\n"
   ]
  },
  {
   "cell_type": "markdown",
   "metadata": {},
   "source": [
    "## Analysis:"
   ]
  },
  {
   "cell_type": "code",
   "execution_count": null,
   "metadata": {},
   "outputs": [],
   "source": [
    "compare_12_to_16['change']= compare_12_to_16['other'] - compare_12_to_16['self']\n"
   ]
  },
  {
   "cell_type": "code",
   "execution_count": null,
   "metadata": {},
   "outputs": [
    {
     "data": {
      "text/html": [
       "<div>\n",
       "<style scoped>\n",
       "    .dataframe tbody tr th:only-of-type {\n",
       "        vertical-align: middle;\n",
       "    }\n",
       "\n",
       "    .dataframe tbody tr th {\n",
       "        vertical-align: top;\n",
       "    }\n",
       "\n",
       "    .dataframe thead th {\n",
       "        text-align: right;\n",
       "    }\n",
       "</style>\n",
       "<table border=\"1\" class=\"dataframe\">\n",
       "  <thead>\n",
       "    <tr style=\"text-align: right;\">\n",
       "      <th></th>\n",
       "      <th>self</th>\n",
       "      <th>other</th>\n",
       "      <th>change</th>\n",
       "      <th>percent_change</th>\n",
       "    </tr>\n",
       "  </thead>\n",
       "  <tbody>\n",
       "    <tr>\n",
       "      <th>0</th>\n",
       "      <td>59.2</td>\n",
       "      <td>0.610</td>\n",
       "      <td>-58.590</td>\n",
       "      <td>-0.989696</td>\n",
       "    </tr>\n",
       "    <tr>\n",
       "      <th>1</th>\n",
       "      <td>54.0</td>\n",
       "      <td>0.569</td>\n",
       "      <td>-53.431</td>\n",
       "      <td>-0.989463</td>\n",
       "    </tr>\n",
       "    <tr>\n",
       "      <th>2</th>\n",
       "      <td>63.3</td>\n",
       "      <td>0.653</td>\n",
       "      <td>-62.647</td>\n",
       "      <td>-0.989684</td>\n",
       "    </tr>\n",
       "    <tr>\n",
       "      <th>3</th>\n",
       "      <td>64.0</td>\n",
       "      <td>0.649</td>\n",
       "      <td>-63.351</td>\n",
       "      <td>-0.989859</td>\n",
       "    </tr>\n",
       "    <tr>\n",
       "      <th>4</th>\n",
       "      <td>59.2</td>\n",
       "      <td>0.600</td>\n",
       "      <td>-58.600</td>\n",
       "      <td>-0.989865</td>\n",
       "    </tr>\n",
       "    <tr>\n",
       "      <th>...</th>\n",
       "      <td>...</td>\n",
       "      <td>...</td>\n",
       "      <td>...</td>\n",
       "      <td>...</td>\n",
       "    </tr>\n",
       "    <tr>\n",
       "      <th>115</th>\n",
       "      <td>52.1</td>\n",
       "      <td>0.545</td>\n",
       "      <td>-51.555</td>\n",
       "      <td>-0.989539</td>\n",
       "    </tr>\n",
       "    <tr>\n",
       "      <th>116</th>\n",
       "      <td>58.8</td>\n",
       "      <td>0.612</td>\n",
       "      <td>-58.188</td>\n",
       "      <td>-0.989592</td>\n",
       "    </tr>\n",
       "    <tr>\n",
       "      <th>117</th>\n",
       "      <td>50.1</td>\n",
       "      <td>0.511</td>\n",
       "      <td>-49.589</td>\n",
       "      <td>-0.989800</td>\n",
       "    </tr>\n",
       "    <tr>\n",
       "      <th>118</th>\n",
       "      <td>46.9</td>\n",
       "      <td>0.473</td>\n",
       "      <td>-46.427</td>\n",
       "      <td>-0.989915</td>\n",
       "    </tr>\n",
       "    <tr>\n",
       "      <th>119</th>\n",
       "      <td>67.1</td>\n",
       "      <td>0.671</td>\n",
       "      <td>-66.429</td>\n",
       "      <td>-0.990000</td>\n",
       "    </tr>\n",
       "  </tbody>\n",
       "</table>\n",
       "<p>120 rows × 4 columns</p>\n",
       "</div>"
      ],
      "text/plain": [
       "     self  other  change  percent_change\n",
       "0    59.2  0.610 -58.590       -0.989696\n",
       "1    54.0  0.569 -53.431       -0.989463\n",
       "2    63.3  0.653 -62.647       -0.989684\n",
       "3    64.0  0.649 -63.351       -0.989859\n",
       "4    59.2  0.600 -58.600       -0.989865\n",
       "..    ...    ...     ...             ...\n",
       "115  52.1  0.545 -51.555       -0.989539\n",
       "116  58.8  0.612 -58.188       -0.989592\n",
       "117  50.1  0.511 -49.589       -0.989800\n",
       "118  46.9  0.473 -46.427       -0.989915\n",
       "119  67.1  0.671 -66.429       -0.990000\n",
       "\n",
       "[120 rows x 4 columns]"
      ]
     },
     "execution_count": 90,
     "metadata": {},
     "output_type": "execute_result"
    }
   ],
   "source": [
    "compare_12_to_16"
   ]
  },
  {
   "cell_type": "code",
   "execution_count": null,
   "metadata": {},
   "outputs": [],
   "source": [
    "compare_12_to_16['percent_change'] = (compare_12_to_16['other'] - compare_12_to_16['self']) / compare_12_to_16['self']\n"
   ]
  },
  {
   "cell_type": "markdown",
   "metadata": {},
   "source": [
    "## Summary: "
   ]
  }
 ],
 "metadata": {
  "kernelspec": {
   "display_name": "Python 3.9.13 64-bit (microsoft store)",
   "language": "python",
   "name": "python3"
  },
  "language_info": {
   "codemirror_mode": {
    "name": "ipython",
    "version": 3
   },
   "file_extension": ".py",
   "mimetype": "text/x-python",
   "name": "python",
   "nbconvert_exporter": "python",
   "pygments_lexer": "ipython3",
   "version": "3.9.13"
  },
  "orig_nbformat": 4,
  "vscode": {
   "interpreter": {
    "hash": "2b2b9afcfb6bb7b0bfc841d6ddf659aa6dda725cf75e67ad31c0dd7d68f880cc"
   }
  }
 },
 "nbformat": 4,
 "nbformat_minor": 2
}
